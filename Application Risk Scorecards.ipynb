{
 "cells": [
  {
   "cell_type": "markdown",
   "metadata": {},
   "source": [
    "### Import Libraries"
   ]
  },
  {
   "cell_type": "code",
   "execution_count": 1,
   "metadata": {},
   "outputs": [],
   "source": [
    "import pandas as pd\n",
    "import numpy as np\n",
    "import matplotlib.pyplot as plt\n",
    "import seaborn as sns\n",
    "import warnings\n",
    "import xgboost as xgb\n",
    "import random\n",
    "from scipy import stats\n",
    "\n",
    "warnings.filterwarnings('ignore')"
   ]
  },
  {
   "cell_type": "code",
   "execution_count": 83,
   "metadata": {},
   "outputs": [],
   "source": [
    "from sklearn.preprocessing import LabelEncoder\n",
    "from sklearn.model_selection import train_test_split\n",
    "from sklearn import metrics\n",
    "\n",
    "from sklearn.ensemble import GradientBoostingClassifier ,RandomForestClassifier\n",
    "from sklearn.linear_model import LogisticRegression\n",
    "from sklearn.svm import SVC\n",
    "\n",
    "from sklearn.metrics import roc_curve, auc\n",
    "from sklearn.metrics import confusion_matrix\n",
    "from sklearn.metrics import precision_score, \\\n",
    "    recall_score, confusion_matrix, classification_report, \\\n",
    "    accuracy_score, f1_score\n",
    "from sklearn.metrics import roc_curve, auc, roc_auc_score\n",
    "\n",
    "from sklearn.model_selection import GridSearchCV, cross_val_score\n",
    "from sklearn.decomposition import PCA"
   ]
  },
  {
   "cell_type": "markdown",
   "metadata": {},
   "source": [
    "### Advanced Classifiers"
   ]
  },
  {
   "cell_type": "code",
   "execution_count": 3,
   "metadata": {},
   "outputs": [],
   "source": [
    "from lightgbm import LGBMClassifier\n",
    "from xgboost import XGBClassifier"
   ]
  },
  {
   "cell_type": "markdown",
   "metadata": {},
   "source": [
    "### Oversampling the Dataset"
   ]
  },
  {
   "cell_type": "code",
   "execution_count": 4,
   "metadata": {},
   "outputs": [],
   "source": [
    "from imblearn.over_sampling import SMOTE"
   ]
  },
  {
   "cell_type": "markdown",
   "metadata": {},
   "source": [
    "### Deep learning framework\n",
    "Firstly you need to install tensorflow to be able to use keras, the deep learning framework. Also make sure that tensorflow version is above 2.2 else you won't be able to use keras. So, things to do before running the below codes:\n",
    "\n",
    "* pip install tensorflow \n",
    "* import tensorflow as tf\n",
    "* pip install keras "
   ]
  },
  {
   "cell_type": "code",
   "execution_count": 5,
   "metadata": {},
   "outputs": [],
   "source": [
    "from keras import models\n",
    "from keras import layers"
   ]
  },
  {
   "cell_type": "markdown",
   "metadata": {},
   "source": [
    "### Reading the Data"
   ]
  },
  {
   "cell_type": "code",
   "execution_count": 6,
   "metadata": {},
   "outputs": [],
   "source": [
    "data_  = pd.read_csv('D:/External Data/GiveMeSomeCredit/cs-training.csv')"
   ]
  },
  {
   "cell_type": "code",
   "execution_count": 7,
   "metadata": {},
   "outputs": [
    {
     "data": {
      "text/plain": [
       "Index(['Unnamed: 0', 'SeriousDlqin2yrs',\n",
       "       'RevolvingUtilizationOfUnsecuredLines', 'age',\n",
       "       'NumberOfTime30-59DaysPastDueNotWorse', 'DebtRatio', 'MonthlyIncome',\n",
       "       'NumberOfOpenCreditLinesAndLoans', 'NumberOfTimes90DaysLate',\n",
       "       'NumberRealEstateLoansOrLines', 'NumberOfTime60-89DaysPastDueNotWorse',\n",
       "       'NumberOfDependents'],\n",
       "      dtype='object')"
      ]
     },
     "execution_count": 7,
     "metadata": {},
     "output_type": "execute_result"
    }
   ],
   "source": [
    "data_.columns"
   ]
  },
  {
   "cell_type": "markdown",
   "metadata": {},
   "source": [
    "### Check the percentage of Defaults and Non-Defaults\n",
    "It is important to check the Default Rates in case you are creating a scorecard. What is does help in understanding about the data that whether we have a imbalanced data. An imbalanced data is basically where the event rate is really low; in the range of 0-5%. Usually, the defaults are a rare scenarios in case of Home Loans & Auto Loans. When you have a default rate in this range, we should be able to balance the data first and then run any model on the same. To balance a data set, there are a different appraoches but the most common and the one which we will use are:\n",
    "\n",
    "* SMOTE (Synthetic Minority Over-sampling Technique)\n",
    "* Near Miss (Under sampling Technique)\n",
    "\n",
    "Below image clearly explains How Undersampling and Oversampling works:\n",
    "![Undersampling and Oversampling](SMOTE.png)\n",
    "Image Source: https://oralytics.com/2019/07/01/managing-imbalanced-data-sets-with-smote-in-python/\n",
    "\n",
    "**SMOTE** works by selecting examples that are close in the feature space, drawing a line between the examples in the feature space and drawing a new sample at a point along that line. Specifically, a random example from the minority class is first chosen. Then k of the nearest neighbors for that example are found (typically k=5). A randomly selected neighbor is chosen and a synthetic example is created at a randomly selected point between the two examples in feature space.\n",
    "\n",
    "**NEAR MISS** is an under-sampling technique. It aims to balance class distribution by randomly eliminating majority class examples. When instances of two different classes are very close to each other, we remove the instances of the majority class to increase the spaces between the two classes. This helps in the classification process. To prevent problem of information loss in most under-sampling techniques, near-neighbor methods are widely used."
   ]
  },
  {
   "cell_type": "markdown",
   "metadata": {},
   "source": [
    "### Checking for the Default rate\n",
    "As we see that it is definitely a case of imbalanced data. So, we had to follow one of the approach discussed above; so either we will be oversampling or undersampling. There is a trade-off between having to chooses undersampling or oversampling:\n",
    "\n",
    "1. **With undersampling**, there is a big loss of data as the total number of rows will be reduced to the number of rows for event rate (Defaults). So, there is a high possibility of High Bias,\n",
    "1. **With oversampling**, there will be synthetic data added to make the Defaults observations equal to the Non-Defaults. The synthetic data is not the exact replica of the observations under Default but these are very much the same as chosen from their nearest neighbours. This can really increase the variance in our model which leads to overfitting. The other disadvantage of oversmapling is that it can increasre the model run time if we are dealing with large number of Non-Defaults"
   ]
  },
  {
   "cell_type": "code",
   "execution_count": 8,
   "metadata": {},
   "outputs": [
    {
     "name": "stdout",
     "output_type": "stream",
     "text": [
      "0    93.316\n",
      "1     6.684\n",
      "Name: SeriousDlqin2yrs, dtype: float64\n"
     ]
    },
    {
     "data": {
      "image/png": "[encoded data removed]",
      "text/plain": [
       "<Figure size 288x288 with 1 Axes>"
      ]
     },
     "metadata": {},
     "output_type": "display_data"
    }
   ],
   "source": [
    "print(data_['SeriousDlqin2yrs'].value_counts()/data_.shape[0] *100)\n",
    "\n",
    "## Pie Chart\n",
    "labels = 'Default', 'Non-Defaults'\n",
    "sizes = [6.684, 93.316]\n",
    "explode = (0.2, 0)\n",
    "cols    = ['#00FFFF', '#008080']\n",
    "\n",
    "fig = plt.figure(figsize = (4,4))\n",
    "plt.pie(sizes, explode=explode, colors = cols, labels=labels, autopct='%1.1f%%',\n",
    "        shadow=True, startangle=90)\n",
    "plt.axis('equal')\n",
    "plt. title(\"Percentage of Defaults and Non-Defaults\")\n",
    "plt.show()"
   ]
  },
  {
   "cell_type": "markdown",
   "metadata": {},
   "source": [
    "### Exploratory Data Analysis (EDA)\n",
    "These will be the steps we will follow before trying to develop any model out of the model:\n",
    "\n",
    "* Identification of Missing values\n",
    "* Treatment of Missing values\n",
    "* Univariate Analysis for all the variables\n",
    "* Bivariate Analysis\n",
    "* Correlations\n",
    "\n",
    "These will help us to strengthen our understanding on the data. We will be knowing about which variables have missing values, outliers if any, the general distribution. Also, we would know about the correlations between the independent and dependent variables."
   ]
  },
  {
   "cell_type": "markdown",
   "metadata": {},
   "source": [
    "#### Missing value function"
   ]
  },
  {
   "cell_type": "code",
   "execution_count": 9,
   "metadata": {},
   "outputs": [],
   "source": [
    "def missing_vals(data_):\n",
    "    miss_     = data_.isnull().sum()\n",
    "    miss_pct  = data_.isnull().sum()/data_.shape[0]\n",
    "    \n",
    "    miss_pct  = pd.concat([miss_, miss_pct], axis =1)\n",
    "    miss_pct.reset_index(inplace=True)\n",
    "    miss_cols = miss_pct.rename(columns={'index':'Column Name', 0:'Missings', 1:'Missing_pct'})\n",
    "    \n",
    "    miss_cols = miss_cols[miss_cols.iloc[:,1]!=0].sort_values('Missing_pct', ascending=False).round(1)\n",
    "    miss_cols.reset_index(inplace=True, drop=True)\n",
    "    \n",
    "    return miss_cols    "
   ]
  },
  {
   "cell_type": "code",
   "execution_count": 10,
   "metadata": {},
   "outputs": [
    {
     "data": {
      "text/html": [
       "<div>\n",
       "<style scoped>\n",
       "    .dataframe tbody tr th:only-of-type {\n",
       "        vertical-align: middle;\n",
       "    }\n",
       "\n",
       "    .dataframe tbody tr th {\n",
       "        vertical-align: top;\n",
       "    }\n",
       "\n",
       "    .dataframe thead th {\n",
       "        text-align: right;\n",
       "    }\n",
       "</style>\n",
       "<table border=\"1\" class=\"dataframe\">\n",
       "  <thead>\n",
       "    <tr style=\"text-align: right;\">\n",
       "      <th></th>\n",
       "      <th>Column Name</th>\n",
       "      <th>Missings</th>\n",
       "      <th>Missing_pct</th>\n",
       "    </tr>\n",
       "  </thead>\n",
       "  <tbody>\n",
       "    <tr>\n",
       "      <th>0</th>\n",
       "      <td>MonthlyIncome</td>\n",
       "      <td>29731</td>\n",
       "      <td>0.2</td>\n",
       "    </tr>\n",
       "    <tr>\n",
       "      <th>1</th>\n",
       "      <td>NumberOfDependents</td>\n",
       "      <td>3924</td>\n",
       "      <td>0.0</td>\n",
       "    </tr>\n",
       "  </tbody>\n",
       "</table>\n",
       "</div>"
      ],
      "text/plain": [
       "          Column Name  Missings  Missing_pct\n",
       "0       MonthlyIncome     29731          0.2\n",
       "1  NumberOfDependents      3924          0.0"
      ]
     },
     "execution_count": 10,
     "metadata": {},
     "output_type": "execute_result"
    }
   ],
   "source": [
    "miss = missing_vals(data_)\n",
    "miss"
   ]
  },
  {
   "cell_type": "markdown",
   "metadata": {},
   "source": [
    "**Conclusion**: We see that there are very less missing values in two of the columns. Then also, we will be replacing the missing values with mean. Missing value treatment is another area which has so many options but the quickest is replacing it by mean or median (when the missing percentage is really less)"
   ]
  },
  {
   "cell_type": "markdown",
   "metadata": {},
   "source": [
    "#### Descriptive Statistics\n",
    "We start with the Descriptive statistics by checking the basic statistics of the variables. Then we start developing histograms for all the variables. These will help us understand the distributions of each of the variable."
   ]
  },
  {
   "cell_type": "code",
   "execution_count": 191,
   "metadata": {},
   "outputs": [
    {
     "data": {
      "text/html": [
       "<div>\n",
       "<style scoped>\n",
       "    .dataframe tbody tr th:only-of-type {\n",
       "        vertical-align: middle;\n",
       "    }\n",
       "\n",
       "    .dataframe tbody tr th {\n",
       "        vertical-align: top;\n",
       "    }\n",
       "\n",
       "    .dataframe thead th {\n",
       "        text-align: right;\n",
       "    }\n",
       "</style>\n",
       "<table border=\"1\" class=\"dataframe\">\n",
       "  <thead>\n",
       "    <tr style=\"text-align: right;\">\n",
       "      <th></th>\n",
       "      <th>Unnamed: 0</th>\n",
       "      <th>SeriousDlqin2yrs</th>\n",
       "      <th>RevolvingUtilizationOfUnsecuredLines</th>\n",
       "      <th>age</th>\n",
       "      <th>NumberOfTime30-59DaysPastDueNotWorse</th>\n",
       "      <th>DebtRatio</th>\n",
       "      <th>MonthlyIncome</th>\n",
       "      <th>NumberOfOpenCreditLinesAndLoans</th>\n",
       "      <th>NumberOfTimes90DaysLate</th>\n",
       "      <th>NumberRealEstateLoansOrLines</th>\n",
       "      <th>NumberOfTime60-89DaysPastDueNotWorse</th>\n",
       "      <th>NumberOfDependents</th>\n",
       "    </tr>\n",
       "  </thead>\n",
       "  <tbody>\n",
       "    <tr>\n",
       "      <th>count</th>\n",
       "      <td>150000.000000</td>\n",
       "      <td>150000.000000</td>\n",
       "      <td>150000.000000</td>\n",
       "      <td>150000.000000</td>\n",
       "      <td>150000.000000</td>\n",
       "      <td>150000.000000</td>\n",
       "      <td>1.202690e+05</td>\n",
       "      <td>150000.000000</td>\n",
       "      <td>150000.000000</td>\n",
       "      <td>150000.000000</td>\n",
       "      <td>150000.000000</td>\n",
       "      <td>146076.000000</td>\n",
       "    </tr>\n",
       "    <tr>\n",
       "      <th>mean</th>\n",
       "      <td>75000.500000</td>\n",
       "      <td>0.066840</td>\n",
       "      <td>6.048438</td>\n",
       "      <td>52.295207</td>\n",
       "      <td>0.421033</td>\n",
       "      <td>353.005076</td>\n",
       "      <td>6.670221e+03</td>\n",
       "      <td>8.452760</td>\n",
       "      <td>0.265973</td>\n",
       "      <td>1.018240</td>\n",
       "      <td>0.240387</td>\n",
       "      <td>0.757222</td>\n",
       "    </tr>\n",
       "    <tr>\n",
       "      <th>std</th>\n",
       "      <td>43301.414527</td>\n",
       "      <td>0.249746</td>\n",
       "      <td>249.755371</td>\n",
       "      <td>14.771866</td>\n",
       "      <td>4.192781</td>\n",
       "      <td>2037.818523</td>\n",
       "      <td>1.438467e+04</td>\n",
       "      <td>5.145951</td>\n",
       "      <td>4.169304</td>\n",
       "      <td>1.129771</td>\n",
       "      <td>4.155179</td>\n",
       "      <td>1.115086</td>\n",
       "    </tr>\n",
       "    <tr>\n",
       "      <th>min</th>\n",
       "      <td>1.000000</td>\n",
       "      <td>0.000000</td>\n",
       "      <td>0.000000</td>\n",
       "      <td>0.000000</td>\n",
       "      <td>0.000000</td>\n",
       "      <td>0.000000</td>\n",
       "      <td>0.000000e+00</td>\n",
       "      <td>0.000000</td>\n",
       "      <td>0.000000</td>\n",
       "      <td>0.000000</td>\n",
       "      <td>0.000000</td>\n",
       "      <td>0.000000</td>\n",
       "    </tr>\n",
       "    <tr>\n",
       "      <th>25%</th>\n",
       "      <td>37500.750000</td>\n",
       "      <td>0.000000</td>\n",
       "      <td>0.029867</td>\n",
       "      <td>41.000000</td>\n",
       "      <td>0.000000</td>\n",
       "      <td>0.175074</td>\n",
       "      <td>3.400000e+03</td>\n",
       "      <td>5.000000</td>\n",
       "      <td>0.000000</td>\n",
       "      <td>0.000000</td>\n",
       "      <td>0.000000</td>\n",
       "      <td>0.000000</td>\n",
       "    </tr>\n",
       "    <tr>\n",
       "      <th>50%</th>\n",
       "      <td>75000.500000</td>\n",
       "      <td>0.000000</td>\n",
       "      <td>0.154181</td>\n",
       "      <td>52.000000</td>\n",
       "      <td>0.000000</td>\n",
       "      <td>0.366508</td>\n",
       "      <td>5.400000e+03</td>\n",
       "      <td>8.000000</td>\n",
       "      <td>0.000000</td>\n",
       "      <td>1.000000</td>\n",
       "      <td>0.000000</td>\n",
       "      <td>0.000000</td>\n",
       "    </tr>\n",
       "    <tr>\n",
       "      <th>75%</th>\n",
       "      <td>112500.250000</td>\n",
       "      <td>0.000000</td>\n",
       "      <td>0.559046</td>\n",
       "      <td>63.000000</td>\n",
       "      <td>0.000000</td>\n",
       "      <td>0.868254</td>\n",
       "      <td>8.249000e+03</td>\n",
       "      <td>11.000000</td>\n",
       "      <td>0.000000</td>\n",
       "      <td>2.000000</td>\n",
       "      <td>0.000000</td>\n",
       "      <td>1.000000</td>\n",
       "    </tr>\n",
       "    <tr>\n",
       "      <th>max</th>\n",
       "      <td>150000.000000</td>\n",
       "      <td>1.000000</td>\n",
       "      <td>50708.000000</td>\n",
       "      <td>109.000000</td>\n",
       "      <td>98.000000</td>\n",
       "      <td>329664.000000</td>\n",
       "      <td>3.008750e+06</td>\n",
       "      <td>58.000000</td>\n",
       "      <td>98.000000</td>\n",
       "      <td>54.000000</td>\n",
       "      <td>98.000000</td>\n",
       "      <td>20.000000</td>\n",
       "    </tr>\n",
       "  </tbody>\n",
       "</table>\n",
       "</div>"
      ],
      "text/plain": [
       "          Unnamed: 0  SeriousDlqin2yrs  RevolvingUtilizationOfUnsecuredLines  \\\n",
       "count  150000.000000     150000.000000                         150000.000000   \n",
       "mean    75000.500000          0.066840                              6.048438   \n",
       "std     43301.414527          0.249746                            249.755371   \n",
       "min         1.000000          0.000000                              0.000000   \n",
       "25%     37500.750000          0.000000                              0.029867   \n",
       "50%     75000.500000          0.000000                              0.154181   \n",
       "75%    112500.250000          0.000000                              0.559046   \n",
       "max    150000.000000          1.000000                          50708.000000   \n",
       "\n",
       "                 age  NumberOfTime30-59DaysPastDueNotWorse      DebtRatio  \\\n",
       "count  150000.000000                         150000.000000  150000.000000   \n",
       "mean       52.295207                              0.421033     353.005076   \n",
       "std        14.771866                              4.192781    2037.818523   \n",
       "min         0.000000                              0.000000       0.000000   \n",
       "25%        41.000000                              0.000000       0.175074   \n",
       "50%        52.000000                              0.000000       0.366508   \n",
       "75%        63.000000                              0.000000       0.868254   \n",
       "max       109.000000                             98.000000  329664.000000   \n",
       "\n",
       "       MonthlyIncome  NumberOfOpenCreditLinesAndLoans  \\\n",
       "count   1.202690e+05                    150000.000000   \n",
       "mean    6.670221e+03                         8.452760   \n",
       "std     1.438467e+04                         5.145951   \n",
       "min     0.000000e+00                         0.000000   \n",
       "25%     3.400000e+03                         5.000000   \n",
       "50%     5.400000e+03                         8.000000   \n",
       "75%     8.249000e+03                        11.000000   \n",
       "max     3.008750e+06                        58.000000   \n",
       "\n",
       "       NumberOfTimes90DaysLate  NumberRealEstateLoansOrLines  \\\n",
       "count            150000.000000                 150000.000000   \n",
       "mean                  0.265973                      1.018240   \n",
       "std                   4.169304                      1.129771   \n",
       "min                   0.000000                      0.000000   \n",
       "25%                   0.000000                      0.000000   \n",
       "50%                   0.000000                      1.000000   \n",
       "75%                   0.000000                      2.000000   \n",
       "max                  98.000000                     54.000000   \n",
       "\n",
       "       NumberOfTime60-89DaysPastDueNotWorse  NumberOfDependents  \n",
       "count                         150000.000000       146076.000000  \n",
       "mean                               0.240387            0.757222  \n",
       "std                                4.155179            1.115086  \n",
       "min                                0.000000            0.000000  \n",
       "25%                                0.000000            0.000000  \n",
       "50%                                0.000000            0.000000  \n",
       "75%                                0.000000            1.000000  \n",
       "max                               98.000000           20.000000  "
      ]
     },
     "execution_count": 191,
     "metadata": {},
     "output_type": "execute_result"
    }
   ],
   "source": [
    "data_.describe()"
   ]
  },
  {
   "cell_type": "code",
   "execution_count": 11,
   "metadata": {},
   "outputs": [],
   "source": [
    "cols = list(data_.columns)\n",
    "cols = cols[1:]\n",
    "colors = ['b', 'g', 'r', 'c', 'm', 'y', 'k', 'b', 'g', 'r', 'c']"
   ]
  },
  {
   "cell_type": "code",
   "execution_count": 12,
   "metadata": {},
   "outputs": [
    {
     "data": {
      "image/png": "[encoded data removed]",
      "text/plain": [
       "<Figure size 1080x864 with 11 Axes>"
      ]
     },
     "metadata": {
      "needs_background": "light"
     },
     "output_type": "display_data"
    }
   ],
   "source": [
    "fig = plt.figure(figsize=(15, 12))\n",
    "for i in range(0, len(cols)):\n",
    "    plt.subplot(5, 4, i+1)\n",
    "    f = plt.gca()\n",
    "    f.axes.get_yaxis().set_visible(False)\n",
    "\n",
    "    plt.hist(data_[cols[i]], bins=30, color=colors[i])\n",
    "    plt.title(cols[i])\n",
    "\n",
    "plt.tight_layout()"
   ]
  },
  {
   "cell_type": "markdown",
   "metadata": {},
   "source": [
    "#### Replace the missings with the mean"
   ]
  },
  {
   "cell_type": "code",
   "execution_count": 14,
   "metadata": {},
   "outputs": [],
   "source": [
    "df = data_.copy()\n",
    "df['MonthlyIncome'] =df['MonthlyIncome'].transform(lambda x: x.fillna(x.mean()))\n",
    "df['NumberOfDependents'] =df['NumberOfDependents'].transform(lambda x: x.fillna(x.mean()))"
   ]
  },
  {
   "cell_type": "markdown",
   "metadata": {},
   "source": [
    "#### Check for missing values again"
   ]
  },
  {
   "cell_type": "code",
   "execution_count": 15,
   "metadata": {},
   "outputs": [
    {
     "data": {
      "text/html": [
       "<div>\n",
       "<style scoped>\n",
       "    .dataframe tbody tr th:only-of-type {\n",
       "        vertical-align: middle;\n",
       "    }\n",
       "\n",
       "    .dataframe tbody tr th {\n",
       "        vertical-align: top;\n",
       "    }\n",
       "\n",
       "    .dataframe thead th {\n",
       "        text-align: right;\n",
       "    }\n",
       "</style>\n",
       "<table border=\"1\" class=\"dataframe\">\n",
       "  <thead>\n",
       "    <tr style=\"text-align: right;\">\n",
       "      <th></th>\n",
       "      <th>Column Name</th>\n",
       "      <th>Missings</th>\n",
       "      <th>Missing_pct</th>\n",
       "    </tr>\n",
       "  </thead>\n",
       "  <tbody>\n",
       "  </tbody>\n",
       "</table>\n",
       "</div>"
      ],
      "text/plain": [
       "Empty DataFrame\n",
       "Columns: [Column Name, Missings, Missing_pct]\n",
       "Index: []"
      ]
     },
     "execution_count": 15,
     "metadata": {},
     "output_type": "execute_result"
    }
   ],
   "source": [
    "miss = missing_vals(df)\n",
    "miss"
   ]
  },
  {
   "cell_type": "markdown",
   "metadata": {},
   "source": [
    "As we see that there are no null values left. Many of the Machine Learning algorithms do take missing values in their analysis but it is always a better strategy to treat them before reaching the modelling stage.\n",
    "\n",
    "There are certain instances when you can't treat them:\n",
    "1. Missing values take away some 30-50% of observations where you can't delete them\n",
    "1. In the above case, you can't even treat them with mean, median as a variables with so many similar values doesn't bring a lot of variance in the variable"
   ]
  },
  {
   "cell_type": "markdown",
   "metadata": {},
   "source": [
    "### Default and Non-Default Visualization\n",
    "We will try to visualize the Default and Non-Defaults on a 2axis framework and see how much of the overlap they have. For this we will use PCA to get two principal components which are a combination of all the variables. This will help us understand the distribution of Defaults and Non-Defaults"
   ]
  },
  {
   "cell_type": "code",
   "execution_count": 16,
   "metadata": {},
   "outputs": [
    {
     "data": {
      "image/png": "[encoded data removed]",
      "text/plain": [
       "<Figure size 720x360 with 1 Axes>"
      ]
     },
     "metadata": {
      "needs_background": "light"
     },
     "output_type": "display_data"
    }
   ],
   "source": [
    "random.seed(32)\n",
    "pca = PCA(n_components = 2)\n",
    "pca.fit(df)\n",
    "\n",
    "scores = pca.transform(df)\n",
    "\n",
    "x,y = scores[:,0] , scores[:,1]\n",
    "df_ = pd.DataFrame({'x': x, 'y':y, 'clusters':df['SeriousDlqin2yrs']})\n",
    "grouping_ = df_.groupby('clusters')\n",
    "\n",
    "\n",
    "fig, ax = plt.subplots(figsize=(10, 5))\n",
    "names = {0: 'Non-Defaults', \n",
    "         1: 'Defaults'}\n",
    "\n",
    "for name, grp in grouping_:\n",
    "    ax.plot(grp.x, grp.y, marker='o', label = names[name], linestyle='')\n",
    "    ax.set_aspect('auto')\n",
    "    ax.set_ylim([0,200000])     ### I have just kept a upper cap on the axis to see the distribution of them\n",
    "    \n",
    "ax.legend()\n",
    "plt.title('Plot showing Defaults and Non-Defaults')\n",
    "plt.show()"
   ]
  },
  {
   "cell_type": "markdown",
   "metadata": {},
   "source": [
    "### Now doing the one-hot encoding\n",
    "One hot encoding is a process by which categorical variables are converted into a form that could be provided to ML algorithms to do a better job in prediction\n",
    "\n",
    "Some algorithms can work with categorical data directly. For example, a decision tree can be learned directly from categorical data with no data transform required (this depends on the specific implementation). Many machine learning algorithms cannot operate on label data directly. They require all input variables and output variables to be numeric. In general, this is mostly a constraint of the efficient implementation of machine learning algorithms rather than hard limitations on the algorithms themselves. This means that categorical data must be converted to a numerical form.\n",
    "\n",
    "Below image clearly explains How one-hot encoding works:\n",
    "![Undersampling and Oversampling](onehot.png)"
   ]
  },
  {
   "cell_type": "code",
   "execution_count": 17,
   "metadata": {},
   "outputs": [],
   "source": [
    "df = pd.get_dummies(df)\n",
    "df = df[[c for c in df if c not in ['SeriousDlqin2yrs']]+['SeriousDlqin2yrs']]\n",
    "df = df.drop(['Unnamed: 0'], axis=1)"
   ]
  },
  {
   "cell_type": "code",
   "execution_count": 18,
   "metadata": {},
   "outputs": [
    {
     "data": {
      "text/html": [
       "<div>\n",
       "<style scoped>\n",
       "    .dataframe tbody tr th:only-of-type {\n",
       "        vertical-align: middle;\n",
       "    }\n",
       "\n",
       "    .dataframe tbody tr th {\n",
       "        vertical-align: top;\n",
       "    }\n",
       "\n",
       "    .dataframe thead th {\n",
       "        text-align: right;\n",
       "    }\n",
       "</style>\n",
       "<table border=\"1\" class=\"dataframe\">\n",
       "  <thead>\n",
       "    <tr style=\"text-align: right;\">\n",
       "      <th></th>\n",
       "      <th>RevolvingUtilizationOfUnsecuredLines</th>\n",
       "      <th>age</th>\n",
       "      <th>NumberOfTime30-59DaysPastDueNotWorse</th>\n",
       "      <th>DebtRatio</th>\n",
       "      <th>MonthlyIncome</th>\n",
       "      <th>NumberOfOpenCreditLinesAndLoans</th>\n",
       "      <th>NumberOfTimes90DaysLate</th>\n",
       "      <th>NumberRealEstateLoansOrLines</th>\n",
       "      <th>NumberOfTime60-89DaysPastDueNotWorse</th>\n",
       "      <th>NumberOfDependents</th>\n",
       "      <th>SeriousDlqin2yrs</th>\n",
       "    </tr>\n",
       "  </thead>\n",
       "  <tbody>\n",
       "    <tr>\n",
       "      <th>0</th>\n",
       "      <td>0.766127</td>\n",
       "      <td>45</td>\n",
       "      <td>2</td>\n",
       "      <td>0.802982</td>\n",
       "      <td>9120.0</td>\n",
       "      <td>13</td>\n",
       "      <td>0</td>\n",
       "      <td>6</td>\n",
       "      <td>0</td>\n",
       "      <td>2.0</td>\n",
       "      <td>1</td>\n",
       "    </tr>\n",
       "    <tr>\n",
       "      <th>1</th>\n",
       "      <td>0.957151</td>\n",
       "      <td>40</td>\n",
       "      <td>0</td>\n",
       "      <td>0.121876</td>\n",
       "      <td>2600.0</td>\n",
       "      <td>4</td>\n",
       "      <td>0</td>\n",
       "      <td>0</td>\n",
       "      <td>0</td>\n",
       "      <td>1.0</td>\n",
       "      <td>0</td>\n",
       "    </tr>\n",
       "    <tr>\n",
       "      <th>2</th>\n",
       "      <td>0.658180</td>\n",
       "      <td>38</td>\n",
       "      <td>1</td>\n",
       "      <td>0.085113</td>\n",
       "      <td>3042.0</td>\n",
       "      <td>2</td>\n",
       "      <td>1</td>\n",
       "      <td>0</td>\n",
       "      <td>0</td>\n",
       "      <td>0.0</td>\n",
       "      <td>0</td>\n",
       "    </tr>\n",
       "    <tr>\n",
       "      <th>3</th>\n",
       "      <td>0.233810</td>\n",
       "      <td>30</td>\n",
       "      <td>0</td>\n",
       "      <td>0.036050</td>\n",
       "      <td>3300.0</td>\n",
       "      <td>5</td>\n",
       "      <td>0</td>\n",
       "      <td>0</td>\n",
       "      <td>0</td>\n",
       "      <td>0.0</td>\n",
       "      <td>0</td>\n",
       "    </tr>\n",
       "    <tr>\n",
       "      <th>4</th>\n",
       "      <td>0.907239</td>\n",
       "      <td>49</td>\n",
       "      <td>1</td>\n",
       "      <td>0.024926</td>\n",
       "      <td>63588.0</td>\n",
       "      <td>7</td>\n",
       "      <td>0</td>\n",
       "      <td>1</td>\n",
       "      <td>0</td>\n",
       "      <td>0.0</td>\n",
       "      <td>0</td>\n",
       "    </tr>\n",
       "  </tbody>\n",
       "</table>\n",
       "</div>"
      ],
      "text/plain": [
       "   RevolvingUtilizationOfUnsecuredLines  age  \\\n",
       "0                              0.766127   45   \n",
       "1                              0.957151   40   \n",
       "2                              0.658180   38   \n",
       "3                              0.233810   30   \n",
       "4                              0.907239   49   \n",
       "\n",
       "   NumberOfTime30-59DaysPastDueNotWorse  DebtRatio  MonthlyIncome  \\\n",
       "0                                     2   0.802982         9120.0   \n",
       "1                                     0   0.121876         2600.0   \n",
       "2                                     1   0.085113         3042.0   \n",
       "3                                     0   0.036050         3300.0   \n",
       "4                                     1   0.024926        63588.0   \n",
       "\n",
       "   NumberOfOpenCreditLinesAndLoans  NumberOfTimes90DaysLate  \\\n",
       "0                               13                        0   \n",
       "1                                4                        0   \n",
       "2                                2                        1   \n",
       "3                                5                        0   \n",
       "4                                7                        0   \n",
       "\n",
       "   NumberRealEstateLoansOrLines  NumberOfTime60-89DaysPastDueNotWorse  \\\n",
       "0                             6                                     0   \n",
       "1                             0                                     0   \n",
       "2                             0                                     0   \n",
       "3                             0                                     0   \n",
       "4                             1                                     0   \n",
       "\n",
       "   NumberOfDependents  SeriousDlqin2yrs  \n",
       "0                 2.0                 1  \n",
       "1                 1.0                 0  \n",
       "2                 0.0                 0  \n",
       "3                 0.0                 0  \n",
       "4                 0.0                 0  "
      ]
     },
     "execution_count": 18,
     "metadata": {},
     "output_type": "execute_result"
    }
   ],
   "source": [
    "df.head()"
   ]
  },
  {
   "cell_type": "markdown",
   "metadata": {},
   "source": [
    "### Checking for correlation \n",
    "We will be checking for two type of correlations:\n",
    "* Correlation with the dependent variable to check which variable correlates better with the dependent variable\n",
    "* Correlations among different variables which is basically checking for mutli-collinearity\n",
    "\n",
    "This is the step where we reduce the variables and as a part of the feature engineering section. In our case, we are having a smaller number of variables but it is just a use case. Feature Engineering can really break or make the model."
   ]
  },
  {
   "cell_type": "code",
   "execution_count": 19,
   "metadata": {},
   "outputs": [],
   "source": [
    "correlations = pd.DataFrame(df.corr()['SeriousDlqin2yrs'].sort_values())\n",
    "correlations = correlations.rename(columns = {'SeriousDlqin2yrs':'Correlation value'})"
   ]
  },
  {
   "cell_type": "code",
   "execution_count": 29,
   "metadata": {},
   "outputs": [
    {
     "data": {
      "text/html": [
       "<div>\n",
       "<style scoped>\n",
       "    .dataframe tbody tr th:only-of-type {\n",
       "        vertical-align: middle;\n",
       "    }\n",
       "\n",
       "    .dataframe tbody tr th {\n",
       "        vertical-align: top;\n",
       "    }\n",
       "\n",
       "    .dataframe thead th {\n",
       "        text-align: right;\n",
       "    }\n",
       "</style>\n",
       "<table border=\"1\" class=\"dataframe\">\n",
       "  <thead>\n",
       "    <tr style=\"text-align: right;\">\n",
       "      <th></th>\n",
       "      <th>Correlation value</th>\n",
       "    </tr>\n",
       "  </thead>\n",
       "  <tbody>\n",
       "    <tr>\n",
       "      <th>age</th>\n",
       "      <td>-0.115386</td>\n",
       "    </tr>\n",
       "    <tr>\n",
       "      <th>NumberOfOpenCreditLinesAndLoans</th>\n",
       "      <td>-0.029669</td>\n",
       "    </tr>\n",
       "    <tr>\n",
       "      <th>MonthlyIncome</th>\n",
       "      <td>-0.018002</td>\n",
       "    </tr>\n",
       "    <tr>\n",
       "      <th>DebtRatio</th>\n",
       "      <td>-0.007602</td>\n",
       "    </tr>\n",
       "    <tr>\n",
       "      <th>NumberRealEstateLoansOrLines</th>\n",
       "      <td>-0.007038</td>\n",
       "    </tr>\n",
       "    <tr>\n",
       "      <th>RevolvingUtilizationOfUnsecuredLines</th>\n",
       "      <td>-0.001802</td>\n",
       "    </tr>\n",
       "    <tr>\n",
       "      <th>NumberOfDependents</th>\n",
       "      <td>0.045621</td>\n",
       "    </tr>\n",
       "    <tr>\n",
       "      <th>NumberOfTime60-89DaysPastDueNotWorse</th>\n",
       "      <td>0.102261</td>\n",
       "    </tr>\n",
       "    <tr>\n",
       "      <th>NumberOfTimes90DaysLate</th>\n",
       "      <td>0.117175</td>\n",
       "    </tr>\n",
       "    <tr>\n",
       "      <th>NumberOfTime30-59DaysPastDueNotWorse</th>\n",
       "      <td>0.125587</td>\n",
       "    </tr>\n",
       "    <tr>\n",
       "      <th>SeriousDlqin2yrs</th>\n",
       "      <td>1.000000</td>\n",
       "    </tr>\n",
       "  </tbody>\n",
       "</table>\n",
       "</div>"
      ],
      "text/plain": [
       "                                      Correlation value\n",
       "age                                           -0.115386\n",
       "NumberOfOpenCreditLinesAndLoans               -0.029669\n",
       "MonthlyIncome                                 -0.018002\n",
       "DebtRatio                                     -0.007602\n",
       "NumberRealEstateLoansOrLines                  -0.007038\n",
       "RevolvingUtilizationOfUnsecuredLines          -0.001802\n",
       "NumberOfDependents                             0.045621\n",
       "NumberOfTime60-89DaysPastDueNotWorse           0.102261\n",
       "NumberOfTimes90DaysLate                        0.117175\n",
       "NumberOfTime30-59DaysPastDueNotWorse           0.125587\n",
       "SeriousDlqin2yrs                               1.000000"
      ]
     },
     "execution_count": 29,
     "metadata": {},
     "output_type": "execute_result"
    }
   ],
   "source": [
    "correlations"
   ]
  },
  {
   "cell_type": "code",
   "execution_count": 17,
   "metadata": {},
   "outputs": [
    {
     "data": {
      "text/plain": [
       "<matplotlib.axes._subplots.AxesSubplot at 0x244dd2e75c8>"
      ]
     },
     "execution_count": 17,
     "metadata": {},
     "output_type": "execute_result"
    },
    {
     "data": {
      "image/png": "[encoded data removed]",
      "text/plain": [
       "<Figure size 432x288 with 1 Axes>"
      ]
     },
     "metadata": {
      "needs_background": "light"
     },
     "output_type": "display_data"
    }
   ],
   "source": [
    "correlations.plot(kind=\"bar\", color=\"olive\")"
   ]
  },
  {
   "cell_type": "markdown",
   "metadata": {},
   "source": [
    "We see that that the correlation values are a little less across all the variables. None of the variables have a correlation of more than 0.5. The variable _NumberOfTime30-59DaysPastDueNotWorse_ has the highest correlation with the dependent variable"
   ]
  },
  {
   "cell_type": "markdown",
   "metadata": {},
   "source": [
    "### Correlation as heat map\n",
    "We will check here the multi-collinearity between all the variable and understand which variable can be removed to avoid any multi-collinearity in the model"
   ]
  },
  {
   "cell_type": "code",
   "execution_count": 16,
   "metadata": {},
   "outputs": [
    {
     "data": {
      "text/plain": [
       "<matplotlib.axes._subplots.AxesSubplot at 0x200bb8613c8>"
      ]
     },
     "execution_count": 16,
     "metadata": {},
     "output_type": "execute_result"
    },
    {
     "data": {
      "image/png": "[encoded data removed]",
      "text/plain": [
       "<Figure size 1080x504 with 2 Axes>"
      ]
     },
     "metadata": {
      "needs_background": "light"
     },
     "output_type": "display_data"
    }
   ],
   "source": [
    "corr_ = df.corr()\n",
    "fig= plt.figure(figsize=(15,7))\n",
    "sns.heatmap(corr_, cmap = plt.cm.RdYlBu_r, vmin = -0.9, annot = True, vmax = 0.9)"
   ]
  },
  {
   "cell_type": "markdown",
   "metadata": {},
   "source": [
    "Results : We see that variable; **NumberOfTime60-89DaysPastDueNotWorse**, **NumberOfTimes90DaysLate** & **NumberOfTime30-59DaysPastDueNotWorse** have a high correlation among themselves. To overcome the issue of multi-collinearity we can remove the two variables and keep only one of them. This is again a part of feature engineering. \n",
    "\n",
    "Now, why did I choose the variable **NumberOfTime60-89DaysPastDueNotWorse**, **NumberOfTimes90DaysLate** to be removed as firstly the variable _NumberofTime90DaysLate_ is a collection related variable which is like heavily used when a person is not able to pay back the loan and the collection (team which collects back money) reaches the customer to force him to pay or else a legal action is taken against him"
   ]
  },
  {
   "cell_type": "code",
   "execution_count": 20,
   "metadata": {},
   "outputs": [],
   "source": [
    "#### Here we will drop variables to better our model\n",
    "df           = df.drop(['NumberOfTime60-89DaysPastDueNotWorse', 'NumberOfTimes90DaysLate'], axis=1)"
   ]
  },
  {
   "cell_type": "markdown",
   "metadata": {},
   "source": [
    "#### Modelling"
   ]
  },
  {
   "cell_type": "code",
   "execution_count": 21,
   "metadata": {},
   "outputs": [],
   "source": [
    "X_train, X_test, y_train, y_test = train_test_split(df.drop(['SeriousDlqin2yrs'], axis=1), df['SeriousDlqin2yrs'], test_size=0.2,random_state = 72)"
   ]
  },
  {
   "cell_type": "markdown",
   "metadata": {},
   "source": [
    "### Oversampling and Undersampling\n",
    "Since, we have already figured out that there is an unbalanced data, we will have to do a Oversampling and Undersampling. We will follow both the procedures and see which one we should follow to create a model"
   ]
  },
  {
   "cell_type": "markdown",
   "metadata": {},
   "source": [
    "#### Oversmapling"
   ]
  },
  {
   "cell_type": "code",
   "execution_count": 22,
   "metadata": {},
   "outputs": [
    {
     "name": "stdout",
     "output_type": "stream",
     "text": [
      "Before OverSampling, counts of label '1': 8036\n",
      "Before OverSampling, counts of label '0': 111964 \n",
      "\n",
      "After OverSampling, the shape of train_X: (223928, 8)\n",
      "After OverSampling, the shape of train_y: (223928,) \n",
      "\n",
      "After OverSampling, counts of label '1': 111964\n",
      "After OverSampling, counts of label '0': 111964\n"
     ]
    }
   ],
   "source": [
    "print(\"Before OverSampling, counts of label '1': {}\".format(sum(y_train == 1))) \n",
    "print(\"Before OverSampling, counts of label '0': {} \\n\".format(sum(y_train == 0))) \n",
    "  \n",
    "sm = SMOTE(random_state = 2) \n",
    "X_train_res, y_train_res = sm.fit_sample(X_train, y_train.ravel()) \n",
    "  \n",
    "print('After OverSampling, the shape of train_X: {}'.format(X_train_res.shape)) \n",
    "print('After OverSampling, the shape of train_y: {} \\n'.format(y_train_res.shape)) \n",
    "  \n",
    "print(\"After OverSampling, counts of label '1': {}\".format(sum(y_train_res == 1))) \n",
    "print(\"After OverSampling, counts of label '0': {}\".format(sum(y_train_res == 0)))"
   ]
  },
  {
   "cell_type": "markdown",
   "metadata": {},
   "source": [
    "### Function to measure the Model fit\n",
    "Below is the function which we will use to measure the fitness of the model. The function contains metrics like Accuracy, Precision, Recall and F1 Score. It also calcualtes the GINI and AUC of the model and throws us the Feature Importance as per the respective model (only if the particular Machine Learning algorithm allows to do so)"
   ]
  },
  {
   "cell_type": "code",
   "execution_count": 50,
   "metadata": {},
   "outputs": [],
   "source": [
    "def model_fit_reports(algo,X_,y_,performCV=True,printFeatureImportance=True, cv_folds=5):\n",
    "    \n",
    "    #Accuracy, Precision, Recall, F1 Score\n",
    "    pred = algo.predict(X_)\n",
    "    accu = accuracy_score(y_, pred)\n",
    "    f1_  = f1_score(y_, pred)\n",
    "    rec  = recall_score(y_, pred)\n",
    "    prec = precision_score(y_, pred)\n",
    "\n",
    "    \n",
    "    #GINI & AUC\n",
    "    fpr, tpr, thresholds = roc_curve(y_, pred)\n",
    "    roc_auc = auc(fpr, tpr)\n",
    "    Gini   = 2*roc_auc - 1   \n",
    "    labels  = ['Accuracy','F1 Score', 'Recall', 'Precision', 'Gini', 'AUC']\n",
    "    values  = [accu,f1_,rec,prec,Gini,roc_auc]\n",
    "    \n",
    "    all_    = pd.Series(values,labels)  \n",
    "    print(all_)\n",
    "    all_.plot(kind='bar', title='Model Fit Report')   \n",
    "\n",
    "\n",
    "    if performCV:\n",
    "        cv_score = cross_val_score(algo, X_, y_, cv=cv_folds, scoring='roc_auc')\n",
    "        GINI     = 2 * cv_score -1\n",
    "        print(\"AUC : Mean - %.7g | Std - %.7g | Min - %.7g | Max - %.7g\" % (np.mean(cv_score),np.std(cv_score),np.min(cv_score),np.max(cv_score)))\n",
    "        print(\"GINI : Mean - %.7g | Std - %.7g | Min - %.7g | Max - %.7g\" % (np.mean(GINI),np.std(GINI),np.min(GINI),np.max(GINI)))\n",
    "\n",
    "    cols = list(X_.columns)\n",
    "    if printFeatureImportance:\n",
    "        feat_imp = pd.Series(algo.feature_importances_, cols).sort_values(ascending=False)\n",
    "        feat_imp.plot(kind='bar', title='Feature Importances')\n",
    "        plt.ylabel('Feature Importance Score')    \n",
    "    \n",
    "    return all_"
   ]
  },
  {
   "cell_type": "markdown",
   "metadata": {},
   "source": [
    "### Developing our model with various Algorithms\n",
    "We will be developing our model with various ML algorithms and compare it with Traditional Alogithms. Also, while it seems easy to tun these ML algos but it is quite tough optimize and tune such alogithms. In a classifier, we had to use some metrics on which basis we can tune and improve our classification. These metrics are:\n",
    "\n",
    "* Precision\n",
    "* Recall\n",
    "* F1 Score\n",
    "* GINI\n",
    "* AUC\n",
    "\n",
    "We will also run a CV to check if our results are consistent when measured on metrics like GINI or AUC"
   ]
  },
  {
   "cell_type": "markdown",
   "metadata": {},
   "source": [
    "### Logistic Regression"
   ]
  },
  {
   "cell_type": "code",
   "execution_count": 23,
   "metadata": {},
   "outputs": [
    {
     "data": {
      "text/plain": [
       "LogisticRegression(random_state=2, solver='sag')"
      ]
     },
     "execution_count": 23,
     "metadata": {},
     "output_type": "execute_result"
    }
   ],
   "source": [
    "regressor = LogisticRegression(random_state =2, solver='sag', max_iter = 10**2)\n",
    "regressor.fit(X_train_res, y_train_res)"
   ]
  },
  {
   "cell_type": "markdown",
   "metadata": {},
   "source": [
    "#### Result on Train data"
   ]
  },
  {
   "cell_type": "code",
   "execution_count": null,
   "metadata": {},
   "outputs": [],
   "source": [
    "train = model_fit_reports(algo =regressor ,X_ = X_train,y_ = y_train, performCV=True, printFeatureImportance=False, cv_folds=5)"
   ]
  },
  {
   "cell_type": "markdown",
   "metadata": {},
   "source": [
    "#### Result on Test data"
   ]
  },
  {
   "cell_type": "code",
   "execution_count": 28,
   "metadata": {},
   "outputs": [
    {
     "name": "stdout",
     "output_type": "stream",
     "text": [
      "Accuracy     0.933667\n",
      "F1 Score     0.001004\n",
      "Recall       0.000503\n",
      "Precision    0.500000\n",
      "Gini Test    0.000467\n",
      "AUC Test     0.500233\n",
      "dtype: float64\n",
      "CV Score : Mean - 0.5754241 | Std - 0.009694285 | Min - 0.5609097 | Max - 0.5864381\n"
     ]
    },
    {
     "data": {
      "image/png": "[encoded data removed]",
      "text/plain": [
       "<Figure size 432x288 with 1 Axes>"
      ]
     },
     "metadata": {
      "needs_background": "light"
     },
     "output_type": "display_data"
    }
   ],
   "source": [
    "test  = model_fit_reports(algo =regressor ,X_ = X_test,y_ = y_test, performCV=True, printFeatureImportance=False, cv_folds=5)"
   ]
  },
  {
   "cell_type": "markdown",
   "metadata": {},
   "source": [
    "### Random Forest"
   ]
  },
  {
   "cell_type": "code",
   "execution_count": 30,
   "metadata": {},
   "outputs": [
    {
     "data": {
      "text/plain": [
       "RandomForestClassifier(n_estimators=500, random_state=8)"
      ]
     },
     "execution_count": 30,
     "metadata": {},
     "output_type": "execute_result"
    }
   ],
   "source": [
    "rfc = RandomForestClassifier(random_state=8, n_estimators=500)\n",
    "rfc.fit(X_train_res, y_train_res)"
   ]
  },
  {
   "cell_type": "markdown",
   "metadata": {},
   "source": [
    "#### Result on the Train Data"
   ]
  },
  {
   "cell_type": "code",
   "execution_count": 32,
   "metadata": {},
   "outputs": [
    {
     "name": "stdout",
     "output_type": "stream",
     "text": [
      "Accuracy     0.998975\n",
      "F1 Score     0.992395\n",
      "Recall       0.998631\n",
      "Precision    0.986236\n",
      "Gini Test    0.997631\n",
      "AUC Test     0.998815\n",
      "dtype: float64\n",
      "CV Score : Mean - 0.8207226 | Std - 0.006535456 | Min - 0.8088928 | Max - 0.828322\n"
     ]
    },
    {
     "data": {
      "image/png": "[encoded data removed]",
      "text/plain": [
       "<Figure size 432x288 with 1 Axes>"
      ]
     },
     "metadata": {
      "needs_background": "light"
     },
     "output_type": "display_data"
    }
   ],
   "source": [
    "train = model_fit_reports(algo =rfc ,X_ = X_train,y_ = y_train, performCV=True, printFeatureImportance=True, cv_folds=5)"
   ]
  },
  {
   "cell_type": "markdown",
   "metadata": {},
   "source": [
    "#### Result on the Test Data"
   ]
  },
  {
   "cell_type": "code",
   "execution_count": 31,
   "metadata": {},
   "outputs": [
    {
     "name": "stdout",
     "output_type": "stream",
     "text": [
      "Accuracy     0.880367\n",
      "F1 Score     0.299707\n",
      "Recall       0.385930\n",
      "Precision    0.244976\n",
      "Gini Test    0.301424\n",
      "AUC Test     0.650712\n",
      "dtype: float64\n",
      "CV Score : Mean - 0.8099214 | Std - 0.005295745 | Min - 0.8044345 | Max - 0.8176102\n"
     ]
    },
    {
     "data": {
      "image/png": "[encoded data removed]",
      "text/plain": [
       "<Figure size 432x288 with 1 Axes>"
      ]
     },
     "metadata": {
      "needs_background": "light"
     },
     "output_type": "display_data"
    }
   ],
   "source": [
    "test = model_fit_reports(algo =rfc ,X_ = X_test,y_ = y_test, performCV=True, printFeatureImportance=True, cv_folds=5)"
   ]
  },
  {
   "cell_type": "markdown",
   "metadata": {},
   "source": [
    "We see the Logistic Regression performs very poorly in comparison to Random Forest. Random Forest is performing decent when we see the Train Data Resuls but if you compare it with Test Data, it is a clear case of overfitting. We also know that Random Forest is prone to high variance or overfitting.\n",
    "\n",
    "Now, we can't use Random Forest as our go to metric because of this reason. We have to go for boosting algorithms which are not prone to overfitting and uses a different technique"
   ]
  },
  {
   "cell_type": "markdown",
   "metadata": {},
   "source": [
    "### Gradient Boosting"
   ]
  },
  {
   "cell_type": "code",
   "execution_count": 34,
   "metadata": {},
   "outputs": [
    {
     "data": {
      "text/plain": [
       "GradientBoostingClassifier()"
      ]
     },
     "execution_count": 34,
     "metadata": {},
     "output_type": "execute_result"
    }
   ],
   "source": [
    "gbc = GradientBoostingClassifier()\n",
    "gbc.fit(X_train_res, y_train_res)"
   ]
  },
  {
   "cell_type": "code",
   "execution_count": 35,
   "metadata": {},
   "outputs": [
    {
     "name": "stdout",
     "output_type": "stream",
     "text": [
      "Accuracy     0.852567\n",
      "F1 Score     0.317386\n",
      "Recall       0.511822\n",
      "Precision    0.230008\n",
      "Gini Test    0.388845\n",
      "AUC Test     0.694422\n",
      "dtype: float64\n",
      "CV Score : Mean - 0.8383923 | Std - 0.004887897 | Min - 0.8296767 | Max - 0.8430249\n"
     ]
    },
    {
     "data": {
      "image/png": "[encoded data removed]",
      "text/plain": [
       "<Figure size 432x288 with 1 Axes>"
      ]
     },
     "metadata": {
      "needs_background": "light"
     },
     "output_type": "display_data"
    }
   ],
   "source": [
    "train = model_fit_reports(algo =gbc ,X_ = X_train,y_ = y_train, performCV=True, printFeatureImportance=False, cv_folds=5)"
   ]
  },
  {
   "cell_type": "code",
   "execution_count": 44,
   "metadata": {},
   "outputs": [
    {
     "name": "stdout",
     "output_type": "stream",
     "text": [
      "Accuracy     0.851667\n",
      "F1 Score     0.313483\n",
      "Recall       0.510553\n",
      "Precision    0.226180\n",
      "Gini Test    0.386454\n",
      "AUC Test     0.693227\n",
      "dtype: float64\n",
      "AUC : Mean - 0.8290919 | Std - 0.007054309 | Min - 0.8202769 | Max - 0.8396676\n",
      "GINI : Mean - 0.6581837 | Std - 0.01410862 | Min - 0.6405537 | Max - 0.6793352\n"
     ]
    },
    {
     "data": {
      "image/png": "[encoded data removed]",
      "text/plain": [
       "<Figure size 432x288 with 1 Axes>"
      ]
     },
     "metadata": {
      "needs_background": "light"
     },
     "output_type": "display_data"
    }
   ],
   "source": [
    "test = model_fit_reports(algo =gbc ,X_ = X_test,y_ = y_test, performCV=True, printFeatureImportance=False, cv_folds=5)"
   ]
  },
  {
   "cell_type": "markdown",
   "metadata": {},
   "source": [
    "**As we can see the GINI of our test data is even less than 50%, we will have to tune it so that we attain a far better GINI on our Test data**"
   ]
  },
  {
   "cell_type": "markdown",
   "metadata": {},
   "source": [
    "#### Tuning the Gradient Boosting parameters\n",
    "\n",
    "We will be tuning the various hyperparameters of Gradient Boosting to improve our first cut results. The below image shows you what are the different pararmeters:\n",
    "\n",
    "* **n_estimators** : The number of sequential trees to be modeled. Though GBM is fairly robust at higher number of trees but it can still overfit at a point. Hence, this should be tuned using CV for a particular learning rate.\n",
    "\n",
    "* **max_depth** : This is the number of maximum depth of the tree. Used to control over-fitting as higher depth will allow model to learn relations very specific to a particular sample\n",
    "\n",
    "* **min_samples_split** : This is the minimum number of samples (or observations) which are required in a node to be considered for splitting.\n",
    "\n",
    "* **min_samples_leaf** : This is the minimum samples (rows or observations) required in a terminal node or leaf\n",
    "\n",
    "* **max_features** : The number of features to be considered while searching for the best split. A random selection is done when we fix the number of features to avoid any bias. Higher values can lead to over-fitting\n",
    "\n",
    "* **subsample** : The fraction of observations to be selected for each tree. Selection is done by random sampling."
   ]
  },
  {
   "cell_type": "markdown",
   "metadata": {},
   "source": [
    "### Tuning n_estimators"
   ]
  },
  {
   "cell_type": "code",
   "execution_count": 39,
   "metadata": {},
   "outputs": [
    {
     "name": "stderr",
     "output_type": "stream",
     "text": [
      "C:\\Users\\AJ\\anaconda3\\lib\\site-packages\\sklearn\\model_selection\\_search.py:849: FutureWarning: The parameter 'iid' is deprecated in 0.22 and will be removed in 0.24.\n",
      "  \"removed in 0.24.\", FutureWarning\n"
     ]
    },
    {
     "data": {
      "text/plain": [
       "GridSearchCV(cv=5,\n",
       "             estimator=GradientBoostingClassifier(max_depth=8,\n",
       "                                                  max_features='sqrt',\n",
       "                                                  min_samples_leaf=50,\n",
       "                                                  min_samples_split=500,\n",
       "                                                  random_state=10,\n",
       "                                                  subsample=0.8),\n",
       "             iid=False, n_jobs=4,\n",
       "             param_grid={'n_estimators': range(20, 81, 10)}, scoring='roc_auc')"
      ]
     },
     "execution_count": 39,
     "metadata": {},
     "output_type": "execute_result"
    }
   ],
   "source": [
    "param_test1 = {'n_estimators':range(20,81,10)}\n",
    "gsearch1    = GridSearchCV(estimator = GradientBoostingClassifier(learning_rate=0.1, \n",
    "                                                               min_samples_split=500,\n",
    "                                                               min_samples_leaf=50,\n",
    "                                                               max_depth=8,max_features='sqrt',subsample=0.8,random_state=10), \n",
    "                                                               param_grid = param_test1, scoring='roc_auc',\n",
    "                                                               n_jobs=4,iid=False, cv=5)\n",
    "\n",
    "gsearch1.fit(X_train_res,y_train_res)"
   ]
  },
  {
   "cell_type": "code",
   "execution_count": 41,
   "metadata": {},
   "outputs": [
    {
     "data": {
      "text/plain": [
       "({'n_estimators': 80}, 0.9475181294437862)"
      ]
     },
     "execution_count": 41,
     "metadata": {},
     "output_type": "execute_result"
    }
   ],
   "source": [
    "gsearch1.best_params_, gsearch1.best_score_"
   ]
  },
  {
   "cell_type": "markdown",
   "metadata": {},
   "source": [
    "### Tuning Max_depth & min_samples_split"
   ]
  },
  {
   "cell_type": "code",
   "execution_count": 45,
   "metadata": {},
   "outputs": [
    {
     "name": "stderr",
     "output_type": "stream",
     "text": [
      "C:\\Users\\AJ\\anaconda3\\lib\\site-packages\\sklearn\\model_selection\\_search.py:849: FutureWarning: The parameter 'iid' is deprecated in 0.22 and will be removed in 0.24.\n",
      "  \"removed in 0.24.\", FutureWarning\n"
     ]
    },
    {
     "data": {
      "text/plain": [
       "GridSearchCV(cv=5,\n",
       "             estimator=GradientBoostingClassifier(max_features='sqrt',\n",
       "                                                  n_estimators=80,\n",
       "                                                  random_state=10,\n",
       "                                                  subsample=0.8),\n",
       "             iid=False, n_jobs=4,\n",
       "             param_grid={'max_depth': range(5, 16, 2),\n",
       "                         'min_samples_split': range(200, 400, 600)},\n",
       "             scoring='roc_auc')"
      ]
     },
     "execution_count": 45,
     "metadata": {},
     "output_type": "execute_result"
    }
   ],
   "source": [
    "param_test2 = {'max_depth':range(5,16,2), 'min_samples_split':range(200,400,600)}\n",
    "gsearch2 = GridSearchCV(estimator = GradientBoostingClassifier(learning_rate=0.1, n_estimators=80, max_features='sqrt', subsample=0.8, random_state=10), \n",
    "param_grid = param_test2, scoring='roc_auc',n_jobs=4,iid=False, cv=5)\n",
    "\n",
    "gsearch2.fit(X_train_res,y_train_res)\n"
   ]
  },
  {
   "cell_type": "code",
   "execution_count": 46,
   "metadata": {},
   "outputs": [
    {
     "data": {
      "text/plain": [
       "({'max_depth': 15, 'min_samples_split': 200}, 0.9618341870406345)"
      ]
     },
     "execution_count": 46,
     "metadata": {},
     "output_type": "execute_result"
    }
   ],
   "source": [
    "gsearch2.best_params_, gsearch2.best_score_"
   ]
  },
  {
   "cell_type": "markdown",
   "metadata": {},
   "source": [
    "### Tuning min_samples_split & min_samples_leaf"
   ]
  },
  {
   "cell_type": "code",
   "execution_count": 59,
   "metadata": {},
   "outputs": [
    {
     "name": "stderr",
     "output_type": "stream",
     "text": [
      "C:\\Users\\AJ\\anaconda3\\lib\\site-packages\\sklearn\\model_selection\\_search.py:849: FutureWarning: The parameter 'iid' is deprecated in 0.22 and will be removed in 0.24.\n",
      "  \"removed in 0.24.\", FutureWarning\n"
     ]
    },
    {
     "data": {
      "text/plain": [
       "GridSearchCV(cv=5,\n",
       "             estimator=GradientBoostingClassifier(max_depth=15,\n",
       "                                                  max_features='sqrt',\n",
       "                                                  n_estimators=80,\n",
       "                                                  random_state=10,\n",
       "                                                  subsample=0.8),\n",
       "             iid=False, n_jobs=4,\n",
       "             param_grid={'min_samples_leaf': range(30, 71, 10),\n",
       "                         'min_samples_split': range(1000, 2100, 200)},\n",
       "             scoring='roc_auc')"
      ]
     },
     "execution_count": 59,
     "metadata": {},
     "output_type": "execute_result"
    }
   ],
   "source": [
    "param_test3 = {'min_samples_split':range(1000,2100,200), 'min_samples_leaf':range(30,71,10)}\n",
    "\n",
    "gsearch3 = GridSearchCV(estimator = GradientBoostingClassifier(learning_rate=0.1, n_estimators=80,max_depth=15,max_features='sqrt', subsample=0.8, random_state=10), \n",
    "param_grid = param_test3, scoring='roc_auc',n_jobs=4,iid=False, cv=5)\n",
    "gsearch3.fit(X_train_res,y_train_res)"
   ]
  },
  {
   "cell_type": "code",
   "execution_count": 60,
   "metadata": {},
   "outputs": [
    {
     "data": {
      "text/plain": [
       "({'min_samples_leaf': 30, 'min_samples_split': 1000}, 0.9538550674696118)"
      ]
     },
     "execution_count": 60,
     "metadata": {},
     "output_type": "execute_result"
    }
   ],
   "source": [
    "gsearch3.best_params_, gsearch3.best_score_"
   ]
  },
  {
   "cell_type": "markdown",
   "metadata": {},
   "source": [
    "### Tuning max_features"
   ]
  },
  {
   "cell_type": "code",
   "execution_count": 61,
   "metadata": {},
   "outputs": [
    {
     "name": "stderr",
     "output_type": "stream",
     "text": [
      "C:\\Users\\AJ\\anaconda3\\lib\\site-packages\\sklearn\\model_selection\\_search.py:849: FutureWarning: The parameter 'iid' is deprecated in 0.22 and will be removed in 0.24.\n",
      "  \"removed in 0.24.\", FutureWarning\n"
     ]
    },
    {
     "data": {
      "text/plain": [
       "GridSearchCV(cv=5,\n",
       "             estimator=GradientBoostingClassifier(max_depth=15,\n",
       "                                                  min_samples_leaf=30,\n",
       "                                                  min_samples_split=1000,\n",
       "                                                  n_estimators=80,\n",
       "                                                  random_state=10,\n",
       "                                                  subsample=0.8),\n",
       "             iid=False, n_jobs=4, param_grid={'max_features': range(7, 20, 2)},\n",
       "             scoring='roc_auc')"
      ]
     },
     "execution_count": 61,
     "metadata": {},
     "output_type": "execute_result"
    }
   ],
   "source": [
    "param_test4 = {'max_features':range(7,20,2)}\n",
    "gsearch4 = GridSearchCV(estimator = GradientBoostingClassifier(learning_rate=0.1, n_estimators=80,max_depth=15, min_samples_split=1000, min_samples_leaf=30, subsample=0.8, random_state=10),\n",
    "param_grid = param_test4, scoring='roc_auc',n_jobs=4,iid=False, cv=5)\n",
    "gsearch4.fit(X_train_res,y_train_res)"
   ]
  },
  {
   "cell_type": "code",
   "execution_count": 62,
   "metadata": {},
   "outputs": [
    {
     "data": {
      "text/plain": [
       "({'max_features': 7}, 0.956152009142316)"
      ]
     },
     "execution_count": 62,
     "metadata": {},
     "output_type": "execute_result"
    }
   ],
   "source": [
    "gsearch4.best_params_, gsearch4.best_score_"
   ]
  },
  {
   "cell_type": "markdown",
   "metadata": {},
   "source": [
    "### Tuning subsample"
   ]
  },
  {
   "cell_type": "code",
   "execution_count": 38,
   "metadata": {},
   "outputs": [
    {
     "name": "stderr",
     "output_type": "stream",
     "text": [
      "C:\\Users\\AJ\\anaconda3\\lib\\site-packages\\sklearn\\model_selection\\_search.py:849: FutureWarning: The parameter 'iid' is deprecated in 0.22 and will be removed in 0.24.\n",
      "  \"removed in 0.24.\", FutureWarning\n"
     ]
    },
    {
     "data": {
      "text/plain": [
       "GridSearchCV(cv=5,\n",
       "             estimator=GradientBoostingClassifier(max_depth=15, max_features=7,\n",
       "                                                  min_samples_leaf=30,\n",
       "                                                  min_samples_split=1000,\n",
       "                                                  n_estimators=80,\n",
       "                                                  random_state=10),\n",
       "             iid=False, n_jobs=4,\n",
       "             param_grid={'subsample': [0.6, 0.7, 0.75, 0.8, 0.85, 0.9]},\n",
       "             scoring='roc_auc')"
      ]
     },
     "execution_count": 38,
     "metadata": {},
     "output_type": "execute_result"
    }
   ],
   "source": [
    "param_test5 = {'subsample':[0.6,0.7,0.75,0.8,0.85,0.9]}\n",
    "gsearch5 = GridSearchCV(estimator = GradientBoostingClassifier(learning_rate=0.1, n_estimators=80, max_depth= 15, min_samples_split= 1000, min_samples_leaf=30,max_features=7, random_state = 10),\n",
    "param_grid = param_test5, scoring='roc_auc',n_jobs=4,iid=False, cv=5)\n",
    "gsearch5.fit(X_train_res,y_train_res)"
   ]
  },
  {
   "cell_type": "code",
   "execution_count": 39,
   "metadata": {},
   "outputs": [
    {
     "data": {
      "text/plain": [
       "({'subsample': 0.9}, 0.956814807747891)"
      ]
     },
     "execution_count": 39,
     "metadata": {},
     "output_type": "execute_result"
    }
   ],
   "source": [
    "gsearch5.best_params_, gsearch5.best_score_"
   ]
  },
  {
   "cell_type": "markdown",
   "metadata": {},
   "source": [
    "#### Combining all the tuned parameter values and runnning them as a whole"
   ]
  },
  {
   "cell_type": "code",
   "execution_count": 45,
   "metadata": {},
   "outputs": [
    {
     "data": {
      "text/plain": [
       "GradientBoostingClassifier(max_depth=15, max_features=7, min_samples_leaf=30,\n",
       "                           min_samples_split=1000, n_estimators=80,\n",
       "                           subsample=0.9)"
      ]
     },
     "execution_count": 45,
     "metadata": {},
     "output_type": "execute_result"
    }
   ],
   "source": [
    "gbc = GradientBoostingClassifier(n_estimators=80, max_depth= 15, min_samples_split= 1000, min_samples_leaf=30,subsample=0.9,max_features=7)\n",
    "gbc.fit(X_train_res, y_train_res)"
   ]
  },
  {
   "cell_type": "code",
   "execution_count": 47,
   "metadata": {},
   "outputs": [
    {
     "name": "stdout",
     "output_type": "stream",
     "text": [
      "Accuracy     0.892958\n",
      "F1 Score     0.389061\n",
      "Recall       0.508960\n",
      "Precision    0.314882\n",
      "Gini Test    0.429479\n",
      "AUC Test     0.714739\n",
      "dtype: float64\n",
      "AUC : Mean - 0.8362434 | Std - 0.005063641 | Min - 0.8279042 | Max - 0.8408266\n",
      "GINI : Mean - 0.6724868 | Std - 0.01012728 | Min - 0.6558084 | Max - 0.6816533\n"
     ]
    },
    {
     "data": {
      "image/png": "[encoded data removed]",
      "text/plain": [
       "<Figure size 432x288 with 1 Axes>"
      ]
     },
     "metadata": {
      "needs_background": "light"
     },
     "output_type": "display_data"
    }
   ],
   "source": [
    "train = model_fit_reports(gbc,X_train,y_train,performCV=True,printFeatureImportance=False, cv_folds=5)"
   ]
  },
  {
   "cell_type": "markdown",
   "metadata": {},
   "source": [
    "As you can see there is a lift in GINI by around 5% from tuning the hyperparameters. So, in this case we have been able to reduce the bias from the model by increasing the lift in GINI"
   ]
  },
  {
   "cell_type": "code",
   "execution_count": 49,
   "metadata": {},
   "outputs": [
    {
     "name": "stdout",
     "output_type": "stream",
     "text": [
      "Accuracy     0.875633\n",
      "F1 Score     0.309713\n",
      "Recall       0.420603\n",
      "Precision    0.245095\n",
      "Gini Test    0.328564\n",
      "AUC Test     0.664282\n",
      "dtype: float64\n",
      "AUC : Mean - 0.8237081 | Std - 0.008120913 | Min - 0.8126759 | Max - 0.8370761\n",
      "GINI : Mean - 0.6474162 | Std - 0.01624183 | Min - 0.6253519 | Max - 0.6741522\n"
     ]
    },
    {
     "data": {
      "image/png": "[encoded data removed]",
      "text/plain": [
       "<Figure size 432x288 with 1 Axes>"
      ]
     },
     "metadata": {
      "needs_background": "light"
     },
     "output_type": "display_data"
    }
   ],
   "source": [
    "test = model_fit_reports(gbc,X_test,y_test,performCV=True,printFeatureImportance=False, cv_folds=5)"
   ]
  },
  {
   "cell_type": "markdown",
   "metadata": {},
   "source": [
    "### XgBoost"
   ]
  },
  {
   "cell_type": "code",
   "execution_count": 51,
   "metadata": {},
   "outputs": [],
   "source": [
    "xgb1 = XGBClassifier(\n",
    " learning_rate =0.001,\n",
    " n_estimators=1000,\n",
    " max_depth=9,\n",
    " min_child_weight=1,\n",
    " gamma=0.2,\n",
    " subsample=0.8,\n",
    " colsample_bytree=0.8,\n",
    " objective= 'binary:logistic',\n",
    " nthread=4,\n",
    " reg_alpha = 0.1,\n",
    " scale_pos_weight=1,\n",
    " seed=27)"
   ]
  },
  {
   "cell_type": "code",
   "execution_count": 52,
   "metadata": {},
   "outputs": [
    {
     "data": {
      "text/plain": [
       "XGBClassifier(base_score=0.5, booster='gbtree', colsample_bylevel=1,\n",
       "              colsample_bynode=1, colsample_bytree=0.8, gamma=0.2, gpu_id=-1,\n",
       "              importance_type='gain', interaction_constraints='',\n",
       "              learning_rate=0.001, max_delta_step=0, max_depth=9,\n",
       "              min_child_weight=1, missing=nan, monotone_constraints='()',\n",
       "              n_estimators=1000, n_jobs=4, nthread=4, num_parallel_tree=1,\n",
       "              random_state=27, reg_alpha=0.1, reg_lambda=1, scale_pos_weight=1,\n",
       "              seed=27, subsample=0.8, tree_method='exact',\n",
       "              validate_parameters=1, verbosity=None)"
      ]
     },
     "execution_count": 52,
     "metadata": {},
     "output_type": "execute_result"
    }
   ],
   "source": [
    "xgb1.fit(X_train_res, y_train_res)"
   ]
  },
  {
   "cell_type": "code",
   "execution_count": 53,
   "metadata": {},
   "outputs": [
    {
     "name": "stdout",
     "output_type": "stream",
     "text": [
      "Accuracy     0.870833\n",
      "F1 Score     0.348575\n",
      "Recall       0.516053\n",
      "Precision    0.263168\n",
      "Gini         0.412350\n",
      "AUC          0.706175\n",
      "dtype: float64\n",
      "AUC : Mean - 0.837617 | Std - 0.005665312 | Min - 0.827034 | Max - 0.842943\n",
      "GINI : Mean - 0.675234 | Std - 0.01133062 | Min - 0.654068 | Max - 0.685886\n"
     ]
    },
    {
     "data": {
      "image/png": "[encoded data removed]",
      "text/plain": [
       "<Figure size 432x288 with 1 Axes>"
      ]
     },
     "metadata": {
      "needs_background": "light"
     },
     "output_type": "display_data"
    }
   ],
   "source": [
    "train = model_fit_reports(xgb1,X_train,y_train,performCV=True,printFeatureImportance=False, cv_folds=5)"
   ]
  },
  {
   "cell_type": "code",
   "execution_count": 54,
   "metadata": {},
   "outputs": [
    {
     "name": "stdout",
     "output_type": "stream",
     "text": [
      "Accuracy     0.862800\n",
      "F1 Score     0.316733\n",
      "Recall       0.479397\n",
      "Precision    0.236490\n",
      "Gini         0.369436\n",
      "AUC          0.684718\n",
      "dtype: float64\n",
      "AUC : Mean - 0.8290391 | Std - 0.007461713 | Min - 0.8184969 | Max - 0.8409156\n",
      "GINI : Mean - 0.6580781 | Std - 0.01492343 | Min - 0.6369939 | Max - 0.6818311\n"
     ]
    },
    {
     "data": {
      "image/png": "[encoded data removed]",
      "text/plain": [
       "<Figure size 432x288 with 1 Axes>"
      ]
     },
     "metadata": {
      "needs_background": "light"
     },
     "output_type": "display_data"
    }
   ],
   "source": [
    "test = model_fit_reports(xgb1,X_test,y_test,performCV=True,printFeatureImportance=False, cv_folds=5)"
   ]
  },
  {
   "cell_type": "markdown",
   "metadata": {},
   "source": [
    "#### Tuning XGboost\n",
    "\n",
    "We will be tuning some of the hyperparameters of XgBoost:\n",
    "\n",
    "* **max_depth**: The maximum depth of a tree\n",
    "* **min_child_weight**: It is the minimum sum of weights of all observations required in a child\n",
    "* **gamma**: A node is split only when the resulting split gives a positive reduction in the loss function. Gamma specifies the minimum loss reduction required to make a split\n",
    "* **subsample**: Denotes the fraction of observations to be randomly samples for each tree"
   ]
  },
  {
   "cell_type": "code",
   "execution_count": 69,
   "metadata": {},
   "outputs": [
    {
     "name": "stderr",
     "output_type": "stream",
     "text": [
      "C:\\Users\\AJ\\anaconda3\\lib\\site-packages\\sklearn\\model_selection\\_search.py:849: FutureWarning: The parameter 'iid' is deprecated in 0.22 and will be removed in 0.24.\n",
      "  \"removed in 0.24.\", FutureWarning\n"
     ]
    },
    {
     "data": {
      "text/plain": [
       "GridSearchCV(cv=5,\n",
       "             estimator=XGBClassifier(base_score=None, booster=None,\n",
       "                                     colsample_bylevel=None,\n",
       "                                     colsample_bynode=None,\n",
       "                                     colsample_bytree=0.8, gamma=0, gpu_id=None,\n",
       "                                     importance_type='gain',\n",
       "                                     interaction_constraints=None,\n",
       "                                     learning_rate=0.1, max_delta_step=None,\n",
       "                                     max_depth=5, min_child_weight=1,\n",
       "                                     missing=nan, monotone_constraints=None,\n",
       "                                     n_estimators=140, n_jobs=None, nthread=4,\n",
       "                                     num_parallel_tree=None, random_state=None,\n",
       "                                     reg_alpha=None, reg_lambda=None,\n",
       "                                     scale_pos_weight=1, seed=27, subsample=0.8,\n",
       "                                     tree_method=None, validate_parameters=None,\n",
       "                                     verbosity=None),\n",
       "             iid=False, n_jobs=4,\n",
       "             param_grid={'max_depth': range(3, 10, 2),\n",
       "                         'min_child_weight': range(1, 6, 2)},\n",
       "             scoring='roc_auc')"
      ]
     },
     "execution_count": 69,
     "metadata": {},
     "output_type": "execute_result"
    }
   ],
   "source": [
    "param_test1 = {\n",
    " 'max_depth':range(3,10,2),\n",
    " 'min_child_weight':range(1,6,2)\n",
    "}\n",
    "gsearch1 = GridSearchCV(estimator = XGBClassifier( learning_rate =0.1, n_estimators=140, max_depth=5,\n",
    " min_child_weight=1, gamma=0, subsample=0.8, colsample_bytree=0.8,\n",
    " objective= 'binary:logistic', nthread=4, scale_pos_weight=1, seed=27), \n",
    " param_grid = param_test1, scoring='roc_auc',n_jobs=4,iid=False, cv=5)\n",
    "gsearch1.fit(X_train_res, y_train_res)\n"
   ]
  },
  {
   "cell_type": "code",
   "execution_count": 71,
   "metadata": {},
   "outputs": [
    {
     "data": {
      "text/plain": [
       "({'max_depth': 9, 'min_child_weight': 1}, 0.9630605327803566)"
      ]
     },
     "execution_count": 71,
     "metadata": {},
     "output_type": "execute_result"
    }
   ],
   "source": [
    "gsearch1.best_params_, gsearch1.best_score_"
   ]
  },
  {
   "cell_type": "code",
   "execution_count": 75,
   "metadata": {},
   "outputs": [
    {
     "name": "stderr",
     "output_type": "stream",
     "text": [
      "C:\\Users\\AJ\\anaconda3\\lib\\site-packages\\sklearn\\model_selection\\_search.py:849: FutureWarning: The parameter 'iid' is deprecated in 0.22 and will be removed in 0.24.\n",
      "  \"removed in 0.24.\", FutureWarning\n"
     ]
    },
    {
     "data": {
      "text/plain": [
       "GridSearchCV(cv=5,\n",
       "             estimator=XGBClassifier(base_score=None, booster=None,\n",
       "                                     colsample_bylevel=None,\n",
       "                                     colsample_bynode=None,\n",
       "                                     colsample_bytree=0.8, gamma=0, gpu_id=None,\n",
       "                                     importance_type='gain',\n",
       "                                     interaction_constraints=None,\n",
       "                                     learning_rate=0.1, max_delta_step=None,\n",
       "                                     max_depth=5, min_child_weight=2,\n",
       "                                     missing=nan, monotone_constraints=None,\n",
       "                                     n_estimators=140, n_jobs=None, nthread=4,\n",
       "                                     num_parallel_tree=None, random_state=None,\n",
       "                                     reg_alpha=None, reg_lambda=None,\n",
       "                                     scale_pos_weight=1, seed=27, subsample=0.8,\n",
       "                                     tree_method=None, validate_parameters=None,\n",
       "                                     verbosity=None),\n",
       "             iid=False, n_jobs=4,\n",
       "             param_grid={'max_depth': [4, 5, 6], 'min_child_weight': [4, 5, 6]},\n",
       "             scoring='roc_auc')"
      ]
     },
     "execution_count": 75,
     "metadata": {},
     "output_type": "execute_result"
    }
   ],
   "source": [
    "param_test2 = {\n",
    " 'max_depth':[4,5,6],\n",
    " 'min_child_weight':[4,5,6]\n",
    "}\n",
    "gsearch2 = GridSearchCV(estimator = XGBClassifier( learning_rate=0.1, n_estimators=140, max_depth=5,\n",
    " min_child_weight=2, gamma=0, subsample=0.8, colsample_bytree=0.8,\n",
    " objective= 'binary:logistic', nthread=4, scale_pos_weight=1,seed=27), \n",
    " param_grid = param_test2, scoring='roc_auc',n_jobs=4,iid=False, cv=5)\n",
    "gsearch2.fit(X_train_res, y_train_res)"
   ]
  },
  {
   "cell_type": "code",
   "execution_count": 76,
   "metadata": {},
   "outputs": [
    {
     "data": {
      "text/plain": [
       "({'max_depth': 9, 'min_child_weight': 1}, 0.9630605327803566)"
      ]
     },
     "execution_count": 76,
     "metadata": {},
     "output_type": "execute_result"
    }
   ],
   "source": [
    "gsearch2.best_params_, gsearch2.best_score_"
   ]
  },
  {
   "cell_type": "code",
   "execution_count": 77,
   "metadata": {},
   "outputs": [
    {
     "name": "stderr",
     "output_type": "stream",
     "text": [
      "C:\\Users\\AJ\\anaconda3\\lib\\site-packages\\sklearn\\model_selection\\_search.py:849: FutureWarning: The parameter 'iid' is deprecated in 0.22 and will be removed in 0.24.\n",
      "  \"removed in 0.24.\", FutureWarning\n"
     ]
    },
    {
     "data": {
      "text/plain": [
       "GridSearchCV(cv=5,\n",
       "             estimator=XGBClassifier(base_score=None, booster=None,\n",
       "                                     colsample_bylevel=None,\n",
       "                                     colsample_bynode=None,\n",
       "                                     colsample_bytree=0.8, gamma=0, gpu_id=None,\n",
       "                                     importance_type='gain',\n",
       "                                     interaction_constraints=None,\n",
       "                                     learning_rate=0.1, max_delta_step=None,\n",
       "                                     max_depth=9, min_child_weight=2,\n",
       "                                     missing=nan, monotone_constraints=None,\n",
       "                                     n_estimators=140, n_jobs=None, nthread=4,\n",
       "                                     num_parallel_tree=None, random_state=None,\n",
       "                                     reg_alpha=None, reg_lambda=None,\n",
       "                                     scale_pos_weight=1, seed=27, subsample=0.8,\n",
       "                                     tree_method=None, validate_parameters=None,\n",
       "                                     verbosity=None),\n",
       "             iid=False, n_jobs=4,\n",
       "             param_grid={'gamma': [0.0, 0.1, 0.2, 0.3, 0.4]},\n",
       "             scoring='roc_auc')"
      ]
     },
     "execution_count": 77,
     "metadata": {},
     "output_type": "execute_result"
    }
   ],
   "source": [
    "param_test3 = {\n",
    " 'gamma':[i/10.0 for i in range(0,5)]\n",
    "}\n",
    "gsearch3 = GridSearchCV(estimator = XGBClassifier( learning_rate =0.1, n_estimators=140, max_depth=9,\n",
    " min_child_weight=2, gamma=0, subsample=0.8, colsample_bytree=0.8,\n",
    " objective= 'binary:logistic', nthread=4, scale_pos_weight=1,seed=27), \n",
    " param_grid = param_test3, scoring='roc_auc',n_jobs=4,iid=False, cv=5)\n",
    "gsearch3.fit(X_train_res, y_train_res)"
   ]
  },
  {
   "cell_type": "code",
   "execution_count": 79,
   "metadata": {},
   "outputs": [
    {
     "data": {
      "text/plain": [
       "({'gamma': 0.2}, 0.9625938874079267)"
      ]
     },
     "execution_count": 79,
     "metadata": {},
     "output_type": "execute_result"
    }
   ],
   "source": [
    "gsearch3.best_params_, gsearch3.best_score_"
   ]
  },
  {
   "cell_type": "code",
   "execution_count": 83,
   "metadata": {},
   "outputs": [
    {
     "name": "stderr",
     "output_type": "stream",
     "text": [
      "C:\\Users\\AJ\\anaconda3\\lib\\site-packages\\sklearn\\model_selection\\_search.py:849: FutureWarning: The parameter 'iid' is deprecated in 0.22 and will be removed in 0.24.\n",
      "  \"removed in 0.24.\", FutureWarning\n"
     ]
    },
    {
     "data": {
      "text/plain": [
       "GridSearchCV(cv=5,\n",
       "             estimator=XGBClassifier(base_score=None, booster=None,\n",
       "                                     colsample_bylevel=None,\n",
       "                                     colsample_bynode=None,\n",
       "                                     colsample_bytree=0.8, gamma=0.2,\n",
       "                                     gpu_id=None, importance_type='gain',\n",
       "                                     interaction_constraints=None,\n",
       "                                     learning_rate=0.1, max_delta_step=None,\n",
       "                                     max_depth=5, min_child_weight=1,\n",
       "                                     missing=nan, monotone_constraints=None,\n",
       "                                     n_estimators=177, n_jobs=None, nthread=4,\n",
       "                                     num_parallel_tree=None, random_state=None,\n",
       "                                     reg_alpha=None, reg_lambda=None,\n",
       "                                     scale_pos_weight=1, seed=27, subsample=0.8,\n",
       "                                     tree_method=None, validate_parameters=None,\n",
       "                                     verbosity=None),\n",
       "             iid=False, n_jobs=4,\n",
       "             param_grid={'reg_alpha': [1e-05, 0.01, 0.1, 1, 100]},\n",
       "             scoring='roc_auc')"
      ]
     },
     "execution_count": 83,
     "metadata": {},
     "output_type": "execute_result"
    }
   ],
   "source": [
    "param_test6 = {\n",
    " 'reg_alpha':[1e-5, 1e-2, 0.1, 1, 100]\n",
    "}\n",
    "gsearch6 = GridSearchCV(estimator = XGBClassifier( learning_rate =0.1, n_estimators=177, max_depth=5,\n",
    " min_child_weight=1, gamma=0.2, subsample=0.8, colsample_bytree=0.8,\n",
    " objective= 'binary:logistic', nthread=4, scale_pos_weight=1,seed=27), \n",
    " param_grid = param_test6, scoring='roc_auc',n_jobs=4,iid=False, cv=5)\n",
    "\n",
    "gsearch6.fit(X_train_res, y_train_res)"
   ]
  },
  {
   "cell_type": "code",
   "execution_count": 84,
   "metadata": {},
   "outputs": [
    {
     "data": {
      "text/plain": [
       "({'reg_alpha': 0.1}, 0.9526962917223795)"
      ]
     },
     "execution_count": 84,
     "metadata": {},
     "output_type": "execute_result"
    }
   ],
   "source": [
    "gsearch6.best_params_, gsearch6.best_score_"
   ]
  },
  {
   "cell_type": "markdown",
   "metadata": {},
   "source": [
    "### Deep Learning\n",
    "\n",
    "KERAS is an Open Source Neural Network library written in Python that runs on top of Theano or Tensorflow. Keras doesn't handle low-level computation. Instead, it uses another library to do it, called the \"Backend. So Keras is high-level API wrapper for the low-level API, capable of running on top of TensorFlow, CNTK, or Theano.\n",
    "\n",
    "Keras High-Level API handles the way we make models, defining layers, or set up multiple input-output models. In this level, Keras also compiles our model with loss and optimizer functions, training process with fit function. Keras doesn't handle Low-Level API such as making the computational graph, making tensors or other variables because it has been handled by the \"backend\" engine.\n",
    "\n",
    "We will be using deep learning to predict the default. Deep Learning an Advanced ML algorithm that uses the power of Neural Netowrks."
   ]
  },
  {
   "cell_type": "markdown",
   "metadata": {},
   "source": [
    "#### Run deep learning using keras"
   ]
  },
  {
   "cell_type": "code",
   "execution_count": 74,
   "metadata": {},
   "outputs": [],
   "source": [
    "n_inputs = X_train_res.shape[1]\n",
    "\n",
    "model = models.Sequential()\n",
    "model.add(layers.Dense(16, activation ='relu', input_shape =(n_inputs, )))\n",
    "model.add(layers.Dense(32,activation = 'relu'))\n",
    "model.add(layers.Dense(1,activation ='sigmoid'))"
   ]
  },
  {
   "cell_type": "code",
   "execution_count": 75,
   "metadata": {},
   "outputs": [],
   "source": [
    "model.compile(optimizer = 'rmsprop',\n",
    "             loss= 'binary_crossentropy',\n",
    "             metrics = ['accuracy'])"
   ]
  },
  {
   "cell_type": "code",
   "execution_count": 76,
   "metadata": {
    "scrolled": false
   },
   "outputs": [
    {
     "name": "stdout",
     "output_type": "stream",
     "text": [
      "Epoch 1/150\n",
      "438/438 [==============================] - 7s 16ms/step - loss: 23.9219 - accuracy: 0.5029 - val_loss: 3.2329 - val_accuracy: 0.9059\n",
      "Epoch 2/150\n",
      "438/438 [==============================] - 6s 14ms/step - loss: 17.0568 - accuracy: 0.5037 - val_loss: 3.2020 - val_accuracy: 0.9339\n",
      "Epoch 3/150\n",
      "438/438 [==============================] - 5s 12ms/step - loss: 14.1422 - accuracy: 0.5083 - val_loss: 2.3281 - val_accuracy: 0.6461\n",
      "Epoch 4/150\n",
      "438/438 [==============================] - 5s 12ms/step - loss: 12.3889 - accuracy: 0.5093 - val_loss: 1.4228 - val_accuracy: 0.9340\n",
      "Epoch 5/150\n",
      "438/438 [==============================] - 5s 11ms/step - loss: 11.3979 - accuracy: 0.5106 - val_loss: 2.1502 - val_accuracy: 0.9340\n",
      "Epoch 6/150\n",
      "438/438 [==============================] - 5s 10ms/step - loss: 9.7676 - accuracy: 0.5108 - val_loss: 1.3342 - val_accuracy: 0.9340\n",
      "Epoch 7/150\n",
      "438/438 [==============================] - 5s 11ms/step - loss: 8.3068 - accuracy: 0.5128 - val_loss: 1.8436 - val_accuracy: 0.9336\n",
      "Epoch 8/150\n",
      "438/438 [==============================] - 4s 10ms/step - loss: 6.8648 - accuracy: 0.5131 - val_loss: 1.2274 - val_accuracy: 0.9309\n",
      "Epoch 9/150\n",
      "438/438 [==============================] - 5s 11ms/step - loss: 5.8653 - accuracy: 0.5135 - val_loss: 1.0047 - val_accuracy: 0.9263\n",
      "Epoch 10/150\n",
      "438/438 [==============================] - 4s 10ms/step - loss: 5.1668 - accuracy: 0.5142 - val_loss: 4.9882 - val_accuracy: 0.0779\n",
      "Epoch 11/150\n",
      "438/438 [==============================] - 5s 11ms/step - loss: 4.4704 - accuracy: 0.5133 - val_loss: 0.7141 - val_accuracy: 0.9298\n",
      "Epoch 12/150\n",
      "438/438 [==============================] - 5s 11ms/step - loss: 3.9819 - accuracy: 0.5168 - val_loss: 0.6582 - val_accuracy: 0.9248\n",
      "Epoch 13/150\n",
      "438/438 [==============================] - 5s 11ms/step - loss: 3.5706 - accuracy: 0.5149 - val_loss: 4.3638 - val_accuracy: 0.0928\n",
      "Epoch 14/150\n",
      "438/438 [==============================] - 5s 10ms/step - loss: 3.1182 - accuracy: 0.5158 - val_loss: 0.5233 - val_accuracy: 0.9072\n",
      "Epoch 15/150\n",
      "438/438 [==============================] - 5s 11ms/step - loss: 2.7131 - accuracy: 0.5139 - val_loss: 0.7043 - val_accuracy: 0.7191\n",
      "Epoch 16/150\n",
      "438/438 [==============================] - 5s 11ms/step - loss: 2.1763 - accuracy: 0.5127 - val_loss: 0.4171 - val_accuracy: 0.8953\n",
      "Epoch 17/150\n",
      "438/438 [==============================] - 5s 10ms/step - loss: 1.4194 - accuracy: 0.5175 - val_loss: 2.1300 - val_accuracy: 0.1291\n",
      "Epoch 18/150\n",
      "438/438 [==============================] - 5s 12ms/step - loss: 1.0619 - accuracy: 0.5276 - val_loss: 0.5112 - val_accuracy: 0.8011\n",
      "Epoch 19/150\n",
      "438/438 [==============================] - 6s 14ms/step - loss: 0.8119 - accuracy: 0.5548 - val_loss: 0.4560 - val_accuracy: 0.8518\n",
      "Epoch 20/150\n",
      "438/438 [==============================] - 5s 12ms/step - loss: 0.7170 - accuracy: 0.5944 - val_loss: 0.7026 - val_accuracy: 0.5648\n",
      "Epoch 21/150\n",
      "438/438 [==============================] - 5s 12ms/step - loss: 0.6820 - accuracy: 0.6101 - val_loss: 0.4701 - val_accuracy: 0.7992\n",
      "Epoch 22/150\n",
      "438/438 [==============================] - 5s 11ms/step - loss: 0.6672 - accuracy: 0.6211 - val_loss: 0.7001 - val_accuracy: 0.5539\n",
      "Epoch 23/150\n",
      "438/438 [==============================] - 5s 11ms/step - loss: 0.6525 - accuracy: 0.6313 - val_loss: 0.6291 - val_accuracy: 0.6408\n",
      "Epoch 24/150\n",
      "438/438 [==============================] - 5s 11ms/step - loss: 0.6443 - accuracy: 0.6350 - val_loss: 0.7023 - val_accuracy: 0.5299\n",
      "Epoch 25/150\n",
      "438/438 [==============================] - 5s 11ms/step - loss: 0.6416 - accuracy: 0.6375 - val_loss: 0.7877 - val_accuracy: 0.4303\n",
      "Epoch 26/150\n",
      "438/438 [==============================] - 5s 11ms/step - loss: 0.6364 - accuracy: 0.6397 - val_loss: 0.7205 - val_accuracy: 0.4937\n",
      "Epoch 27/150\n",
      "438/438 [==============================] - 5s 11ms/step - loss: 0.6316 - accuracy: 0.6456 - val_loss: 0.8227 - val_accuracy: 0.4428\n",
      "Epoch 28/150\n",
      "438/438 [==============================] - 5s 11ms/step - loss: 0.6302 - accuracy: 0.6456 - val_loss: 0.7628 - val_accuracy: 0.4766\n",
      "Epoch 29/150\n",
      "438/438 [==============================] - 5s 11ms/step - loss: 0.6279 - accuracy: 0.6482 - val_loss: 0.5558 - val_accuracy: 0.7243\n",
      "Epoch 30/150\n",
      "438/438 [==============================] - 5s 11ms/step - loss: 0.6253 - accuracy: 0.6484 - val_loss: 0.5365 - val_accuracy: 0.7519\n",
      "Epoch 31/150\n",
      "438/438 [==============================] - 5s 11ms/step - loss: 0.6239 - accuracy: 0.6517 - val_loss: 0.5488 - val_accuracy: 0.7444\n",
      "Epoch 32/150\n",
      "438/438 [==============================] - 5s 11ms/step - loss: 0.6216 - accuracy: 0.6518 - val_loss: 0.8569 - val_accuracy: 0.3635\n",
      "Epoch 33/150\n",
      "438/438 [==============================] - 5s 12ms/step - loss: 0.6202 - accuracy: 0.6534 - val_loss: 0.7347 - val_accuracy: 0.5047\n",
      "Epoch 34/150\n",
      "438/438 [==============================] - 5s 11ms/step - loss: 0.6185 - accuracy: 0.6544 - val_loss: 0.7892 - val_accuracy: 0.4898\n",
      "Epoch 35/150\n",
      "438/438 [==============================] - 5s 11ms/step - loss: 0.6180 - accuracy: 0.6546 - val_loss: 0.6685 - val_accuracy: 0.6225\n",
      "Epoch 36/150\n",
      "438/438 [==============================] - 6s 13ms/step - loss: 0.6166 - accuracy: 0.6565 - val_loss: 0.5597 - val_accuracy: 0.7427\n",
      "Epoch 37/150\n",
      "438/438 [==============================] - 5s 12ms/step - loss: 0.6157 - accuracy: 0.6586 - val_loss: 0.8088 - val_accuracy: 0.4195\n",
      "Epoch 38/150\n",
      "438/438 [==============================] - 5s 11ms/step - loss: 0.6145 - accuracy: 0.6592 - val_loss: 0.6635 - val_accuracy: 0.6184\n",
      "Epoch 39/150\n",
      "438/438 [==============================] - 4s 10ms/step - loss: 0.6123 - accuracy: 0.6613 - val_loss: 1.0537 - val_accuracy: 0.2091\n",
      "Epoch 40/150\n",
      "438/438 [==============================] - 4s 10ms/step - loss: 0.6107 - accuracy: 0.6634 - val_loss: 0.4627 - val_accuracy: 0.8134\n",
      "Epoch 41/150\n",
      "438/438 [==============================] - 5s 11ms/step - loss: 0.6077 - accuracy: 0.6666 - val_loss: 0.5409 - val_accuracy: 0.7404\n",
      "Epoch 42/150\n",
      "438/438 [==============================] - 5s 12ms/step - loss: 0.6073 - accuracy: 0.6673 - val_loss: 0.5079 - val_accuracy: 0.7344\n",
      "Epoch 43/150\n",
      "438/438 [==============================] - 6s 14ms/step - loss: 0.6044 - accuracy: 0.6712 - val_loss: 0.7283 - val_accuracy: 0.5439\n",
      "Epoch 44/150\n",
      "438/438 [==============================] - 5s 11ms/step - loss: 0.6021 - accuracy: 0.6748 - val_loss: 0.6346 - val_accuracy: 0.6339\n",
      "Epoch 45/150\n",
      "438/438 [==============================] - 5s 11ms/step - loss: 0.5997 - accuracy: 0.6764 - val_loss: 0.6163 - val_accuracy: 0.6630\n",
      "Epoch 46/150\n",
      "438/438 [==============================] - 5s 11ms/step - loss: 0.5985 - accuracy: 0.6782 - val_loss: 0.5418 - val_accuracy: 0.7519\n",
      "Epoch 47/150\n",
      "438/438 [==============================] - 5s 11ms/step - loss: 0.5955 - accuracy: 0.6821 - val_loss: 0.5967 - val_accuracy: 0.6823\n",
      "Epoch 48/150\n",
      "438/438 [==============================] - 5s 12ms/step - loss: 0.5943 - accuracy: 0.6832 - val_loss: 0.5622 - val_accuracy: 0.7341\n",
      "Epoch 49/150\n",
      "438/438 [==============================] - 5s 12ms/step - loss: 0.5924 - accuracy: 0.6852 - val_loss: 0.7191 - val_accuracy: 0.5647\n",
      "Epoch 50/150\n",
      "438/438 [==============================] - 5s 10ms/step - loss: 0.5894 - accuracy: 0.6892 - val_loss: 0.6338 - val_accuracy: 0.6570\n",
      "Epoch 51/150\n",
      "438/438 [==============================] - 4s 10ms/step - loss: 0.5866 - accuracy: 0.6916 - val_loss: 0.6260 - val_accuracy: 0.6773\n",
      "Epoch 52/150\n",
      "438/438 [==============================] - 4s 10ms/step - loss: 0.5808 - accuracy: 0.6984 - val_loss: 0.7067 - val_accuracy: 0.6071\n",
      "Epoch 53/150\n",
      "438/438 [==============================] - 4s 10ms/step - loss: 0.5778 - accuracy: 0.7006 - val_loss: 0.6249 - val_accuracy: 0.6827\n",
      "Epoch 54/150\n",
      "438/438 [==============================] - 5s 11ms/step - loss: 0.5758 - accuracy: 0.7045 - val_loss: 0.5794 - val_accuracy: 0.7258\n",
      "Epoch 55/150\n",
      "438/438 [==============================] - 5s 12ms/step - loss: 0.5739 - accuracy: 0.7068 - val_loss: 0.7814 - val_accuracy: 0.5187\n",
      "Epoch 56/150\n",
      "438/438 [==============================] - 5s 11ms/step - loss: 0.5745 - accuracy: 0.7092 - val_loss: 0.7642 - val_accuracy: 0.5560\n",
      "Epoch 57/150\n",
      "438/438 [==============================] - 4s 10ms/step - loss: 0.5687 - accuracy: 0.7111 - val_loss: 0.7489 - val_accuracy: 0.5643\n",
      "Epoch 58/150\n",
      "438/438 [==============================] - 6s 13ms/step - loss: 0.5666 - accuracy: 0.7146 - val_loss: 0.4708 - val_accuracy: 0.8184\n",
      "Epoch 59/150\n",
      "438/438 [==============================] - 5s 11ms/step - loss: 0.5664 - accuracy: 0.7156 - val_loss: 0.6141 - val_accuracy: 0.6810\n",
      "Epoch 60/150\n",
      "438/438 [==============================] - 5s 11ms/step - loss: 0.5642 - accuracy: 0.7172 - val_loss: 0.4441 - val_accuracy: 0.8223\n",
      "Epoch 61/150\n",
      "438/438 [==============================] - 5s 12ms/step - loss: 0.5618 - accuracy: 0.7197 - val_loss: 0.6293 - val_accuracy: 0.6840\n",
      "Epoch 62/150\n",
      "438/438 [==============================] - 6s 14ms/step - loss: 0.5598 - accuracy: 0.7206 - val_loss: 0.4844 - val_accuracy: 0.7683\n",
      "Epoch 63/150\n",
      "438/438 [==============================] - 5s 12ms/step - loss: 0.5627 - accuracy: 0.7211 - val_loss: 0.5824 - val_accuracy: 0.7222\n",
      "Epoch 64/150\n",
      "438/438 [==============================] - 5s 10ms/step - loss: 0.5599 - accuracy: 0.7217 - val_loss: 0.5067 - val_accuracy: 0.7730\n",
      "Epoch 65/150\n",
      "438/438 [==============================] - 5s 10ms/step - loss: 0.5593 - accuracy: 0.7223 - val_loss: 0.3766 - val_accuracy: 0.8617\n",
      "Epoch 66/150\n",
      "438/438 [==============================] - 4s 10ms/step - loss: 0.5557 - accuracy: 0.7251 - val_loss: 0.5725 - val_accuracy: 0.7263\n",
      "Epoch 67/150\n",
      "438/438 [==============================] - 4s 10ms/step - loss: 0.5550 - accuracy: 0.7251 - val_loss: 0.5187 - val_accuracy: 0.7615\n",
      "Epoch 68/150\n",
      "438/438 [==============================] - 4s 10ms/step - loss: 0.5553 - accuracy: 0.7257 - val_loss: 0.6652 - val_accuracy: 0.6167\n",
      "Epoch 69/150\n",
      "438/438 [==============================] - 5s 11ms/step - loss: 0.5527 - accuracy: 0.7267 - val_loss: 0.6299 - val_accuracy: 0.6753\n",
      "Epoch 70/150\n",
      "438/438 [==============================] - 4s 10ms/step - loss: 0.5497 - accuracy: 0.7302 - val_loss: 0.3588 - val_accuracy: 0.8656\n",
      "Epoch 71/150\n",
      "438/438 [==============================] - 4s 10ms/step - loss: 0.5511 - accuracy: 0.7278 - val_loss: 0.4990 - val_accuracy: 0.7857\n",
      "Epoch 72/150\n",
      "438/438 [==============================] - 4s 10ms/step - loss: 0.5505 - accuracy: 0.7300 - val_loss: 0.5278 - val_accuracy: 0.7474\n",
      "Epoch 73/150\n",
      "438/438 [==============================] - 4s 9ms/step - loss: 0.5461 - accuracy: 0.7320 - val_loss: 0.6285 - val_accuracy: 0.6530\n",
      "Epoch 74/150\n",
      "438/438 [==============================] - 4s 10ms/step - loss: 0.5458 - accuracy: 0.7333 - val_loss: 0.5760 - val_accuracy: 0.7128\n",
      "Epoch 75/150\n",
      "438/438 [==============================] - 4s 10ms/step - loss: 0.5445 - accuracy: 0.7332 - val_loss: 0.7906 - val_accuracy: 0.5818\n",
      "Epoch 76/150\n",
      "438/438 [==============================] - 4s 10ms/step - loss: 0.5435 - accuracy: 0.7351 - val_loss: 0.5375 - val_accuracy: 0.7354\n",
      "Epoch 77/150\n",
      "438/438 [==============================] - 4s 10ms/step - loss: 0.5440 - accuracy: 0.7350 - val_loss: 0.4369 - val_accuracy: 0.8159\n",
      "Epoch 78/150\n",
      "438/438 [==============================] - 4s 10ms/step - loss: 0.5423 - accuracy: 0.7351 - val_loss: 0.5307 - val_accuracy: 0.7433\n",
      "Epoch 79/150\n",
      "438/438 [==============================] - 4s 10ms/step - loss: 0.5403 - accuracy: 0.7364 - val_loss: 0.6089 - val_accuracy: 0.6709\n",
      "Epoch 80/150\n",
      "438/438 [==============================] - 6s 14ms/step - loss: 0.5426 - accuracy: 0.7361 - val_loss: 0.7805 - val_accuracy: 0.5844\n",
      "Epoch 81/150\n",
      "438/438 [==============================] - 5s 11ms/step - loss: 0.5397 - accuracy: 0.7380 - val_loss: 0.4819 - val_accuracy: 0.7544\n",
      "Epoch 82/150\n",
      "438/438 [==============================] - 5s 11ms/step - loss: 0.5375 - accuracy: 0.7381 - val_loss: 0.4298 - val_accuracy: 0.8018\n",
      "Epoch 83/150\n",
      "438/438 [==============================] - 5s 13ms/step - loss: 0.5355 - accuracy: 0.7399 - val_loss: 0.5867 - val_accuracy: 0.7073\n",
      "Epoch 84/150\n",
      "438/438 [==============================] - 5s 12ms/step - loss: 0.5362 - accuracy: 0.7399 - val_loss: 0.5888 - val_accuracy: 0.6990\n",
      "Epoch 85/150\n",
      "438/438 [==============================] - 6s 13ms/step - loss: 0.5385 - accuracy: 0.7393 - val_loss: 0.8667 - val_accuracy: 0.4450\n",
      "Epoch 86/150\n",
      "438/438 [==============================] - 6s 13ms/step - loss: 0.5330 - accuracy: 0.7416 - val_loss: 0.4975 - val_accuracy: 0.7754\n",
      "Epoch 87/150\n",
      "438/438 [==============================] - 6s 13ms/step - loss: 0.5322 - accuracy: 0.7422 - val_loss: 0.6904 - val_accuracy: 0.6169\n",
      "Epoch 88/150\n",
      "438/438 [==============================] - 6s 13ms/step - loss: 0.5322 - accuracy: 0.7430 - val_loss: 0.3191 - val_accuracy: 0.8679\n",
      "Epoch 89/150\n",
      "438/438 [==============================] - 5s 12ms/step - loss: 0.5320 - accuracy: 0.7428 - val_loss: 0.4539 - val_accuracy: 0.7845\n",
      "Epoch 90/150\n",
      "438/438 [==============================] - 5s 12ms/step - loss: 0.5302 - accuracy: 0.7428 - val_loss: 0.6117 - val_accuracy: 0.6646\n",
      "Epoch 91/150\n",
      "438/438 [==============================] - 5s 11ms/step - loss: 0.5302 - accuracy: 0.7428 - val_loss: 0.3481 - val_accuracy: 0.8450\n",
      "Epoch 92/150\n",
      "438/438 [==============================] - 5s 11ms/step - loss: 0.5304 - accuracy: 0.7437 - val_loss: 0.7429 - val_accuracy: 0.6032\n",
      "Epoch 93/150\n",
      "438/438 [==============================] - 6s 13ms/step - loss: 0.5292 - accuracy: 0.7428 - val_loss: 0.3795 - val_accuracy: 0.8176\n",
      "Epoch 94/150\n",
      "438/438 [==============================] - 5s 11ms/step - loss: 0.5419 - accuracy: 0.7385 - val_loss: 0.4054 - val_accuracy: 0.8256\n",
      "Epoch 95/150\n",
      "438/438 [==============================] - 7s 16ms/step - loss: 0.5290 - accuracy: 0.7443 - val_loss: 0.6304 - val_accuracy: 0.6352\n",
      "Epoch 96/150\n",
      "438/438 [==============================] - 7s 16ms/step - loss: 0.5274 - accuracy: 0.7457 - val_loss: 0.4080 - val_accuracy: 0.8046\n",
      "Epoch 97/150\n",
      "438/438 [==============================] - 7s 16ms/step - loss: 0.5269 - accuracy: 0.7455 - val_loss: 0.4003 - val_accuracy: 0.8094\n",
      "Epoch 98/150\n",
      "438/438 [==============================] - 6s 13ms/step - loss: 0.5272 - accuracy: 0.7447 - val_loss: 0.6897 - val_accuracy: 0.6013\n",
      "Epoch 99/150\n",
      "438/438 [==============================] - 7s 17ms/step - loss: 0.5263 - accuracy: 0.7457 - val_loss: 0.6113 - val_accuracy: 0.6556\n",
      "Epoch 100/150\n",
      "438/438 [==============================] - 8s 19ms/step - loss: 0.5263 - accuracy: 0.7458 - val_loss: 0.6958 - val_accuracy: 0.6180\n",
      "Epoch 101/150\n",
      "438/438 [==============================] - 7s 17ms/step - loss: 0.5244 - accuracy: 0.7477 - val_loss: 0.4999 - val_accuracy: 0.7451\n",
      "Epoch 102/150\n",
      "438/438 [==============================] - 7s 17ms/step - loss: 0.5253 - accuracy: 0.7476 - val_loss: 0.3571 - val_accuracy: 0.8421\n",
      "Epoch 103/150\n",
      "438/438 [==============================] - 7s 16ms/step - loss: 0.5237 - accuracy: 0.7476 - val_loss: 0.6672 - val_accuracy: 0.6630\n",
      "Epoch 104/150\n",
      "438/438 [==============================] - 5s 10ms/step - loss: 0.5226 - accuracy: 0.7480 - val_loss: 0.4341 - val_accuracy: 0.7851\n",
      "Epoch 105/150\n",
      "438/438 [==============================] - 4s 9ms/step - loss: 0.5243 - accuracy: 0.7479 - val_loss: 0.4308 - val_accuracy: 0.7905\n",
      "Epoch 106/150\n",
      "438/438 [==============================] - 4s 9ms/step - loss: 0.5232 - accuracy: 0.7486 - val_loss: 0.5270 - val_accuracy: 0.7185\n",
      "Epoch 107/150\n",
      "438/438 [==============================] - 4s 9ms/step - loss: 0.5229 - accuracy: 0.7479 - val_loss: 0.7863 - val_accuracy: 0.5016\n",
      "Epoch 108/150\n",
      "438/438 [==============================] - 4s 9ms/step - loss: 0.5200 - accuracy: 0.7501 - val_loss: 0.4056 - val_accuracy: 0.7983\n",
      "Epoch 109/150\n",
      "438/438 [==============================] - 4s 9ms/step - loss: 0.5266 - accuracy: 0.7463 - val_loss: 0.5779 - val_accuracy: 0.6918\n",
      "Epoch 110/150\n",
      "438/438 [==============================] - 7s 17ms/step - loss: 0.5220 - accuracy: 0.7495 - val_loss: 0.5254 - val_accuracy: 0.7176\n",
      "Epoch 111/150\n",
      "438/438 [==============================] - 11s 25ms/step - loss: 0.5246 - accuracy: 0.7476 - val_loss: 0.5453 - val_accuracy: 0.7050\n",
      "Epoch 112/150\n",
      "438/438 [==============================] - 9s 20ms/step - loss: 0.5207 - accuracy: 0.7501 - val_loss: 0.9239 - val_accuracy: 0.3722\n",
      "Epoch 113/150\n",
      "438/438 [==============================] - 4s 9ms/step - loss: 0.5183 - accuracy: 0.7505 - val_loss: 0.5559 - val_accuracy: 0.7077\n",
      "Epoch 114/150\n",
      "438/438 [==============================] - 4s 9ms/step - loss: 0.5186 - accuracy: 0.7513 - val_loss: 0.6151 - val_accuracy: 0.6815\n",
      "Epoch 115/150\n",
      "438/438 [==============================] - 5s 11ms/step - loss: 0.5183 - accuracy: 0.7506 - val_loss: 0.6228 - val_accuracy: 0.6830\n",
      "Epoch 116/150\n",
      "438/438 [==============================] - 4s 9ms/step - loss: 0.5176 - accuracy: 0.7519 - val_loss: 0.7508 - val_accuracy: 0.5828\n",
      "Epoch 117/150\n",
      "438/438 [==============================] - 4s 9ms/step - loss: 0.5176 - accuracy: 0.7514 - val_loss: 0.4902 - val_accuracy: 0.7459\n",
      "Epoch 118/150\n",
      "438/438 [==============================] - 4s 9ms/step - loss: 0.5170 - accuracy: 0.7520 - val_loss: 0.5889 - val_accuracy: 0.6850\n",
      "Epoch 119/150\n",
      "438/438 [==============================] - 4s 9ms/step - loss: 0.5155 - accuracy: 0.7538 - val_loss: 1.0960 - val_accuracy: 0.3537\n",
      "Epoch 120/150\n",
      "438/438 [==============================] - 4s 9ms/step - loss: 0.5165 - accuracy: 0.7512 - val_loss: 0.4271 - val_accuracy: 0.8058\n",
      "Epoch 121/150\n",
      "438/438 [==============================] - 4s 9ms/step - loss: 0.5148 - accuracy: 0.7531 - val_loss: 0.5206 - val_accuracy: 0.7306\n",
      "Epoch 122/150\n",
      "438/438 [==============================] - 4s 9ms/step - loss: 0.5154 - accuracy: 0.7530 - val_loss: 0.6874 - val_accuracy: 0.6152\n",
      "Epoch 123/150\n",
      "438/438 [==============================] - 7s 16ms/step - loss: 0.5156 - accuracy: 0.7536 - val_loss: 0.4575 - val_accuracy: 0.7766\n",
      "Epoch 124/150\n",
      "438/438 [==============================] - 10s 24ms/step - loss: 0.5139 - accuracy: 0.7534 - val_loss: 0.6713 - val_accuracy: 0.6304\n",
      "Epoch 125/150\n",
      "438/438 [==============================] - 4s 10ms/step - loss: 0.5143 - accuracy: 0.7546 - val_loss: 0.4166 - val_accuracy: 0.7913\n",
      "Epoch 126/150\n",
      "438/438 [==============================] - 6s 13ms/step - loss: 0.5149 - accuracy: 0.7545 - val_loss: 0.5914 - val_accuracy: 0.6917\n",
      "Epoch 127/150\n",
      "438/438 [==============================] - 6s 14ms/step - loss: 0.5145 - accuracy: 0.7544 - val_loss: 0.4792 - val_accuracy: 0.7586\n",
      "Epoch 128/150\n",
      "438/438 [==============================] - 7s 17ms/step - loss: 0.5122 - accuracy: 0.7556 - val_loss: 0.8475 - val_accuracy: 0.4520\n",
      "Epoch 129/150\n",
      "438/438 [==============================] - 7s 17ms/step - loss: 0.5141 - accuracy: 0.7537 - val_loss: 0.6731 - val_accuracy: 0.6088\n",
      "Epoch 130/150\n",
      "438/438 [==============================] - 5s 10ms/step - loss: 0.5124 - accuracy: 0.7551 - val_loss: 0.4695 - val_accuracy: 0.7603\n",
      "Epoch 131/150\n",
      "438/438 [==============================] - 4s 10ms/step - loss: 0.5120 - accuracy: 0.7557 - val_loss: 0.5671 - val_accuracy: 0.7022\n",
      "Epoch 132/150\n",
      "438/438 [==============================] - 5s 12ms/step - loss: 0.5113 - accuracy: 0.7556 - val_loss: 0.3751 - val_accuracy: 0.8355\n",
      "Epoch 133/150\n",
      "438/438 [==============================] - 5s 11ms/step - loss: 0.5119 - accuracy: 0.7550 - val_loss: 0.4884 - val_accuracy: 0.7452\n",
      "Epoch 134/150\n",
      "438/438 [==============================] - 8s 19ms/step - loss: 0.5121 - accuracy: 0.7558 - val_loss: 0.5320 - val_accuracy: 0.7223\n",
      "Epoch 135/150\n",
      "438/438 [==============================] - 5s 11ms/step - loss: 0.5114 - accuracy: 0.7552 - val_loss: 0.3853 - val_accuracy: 0.8225\n",
      "Epoch 136/150\n",
      "438/438 [==============================] - 4s 10ms/step - loss: 0.5116 - accuracy: 0.7551 - val_loss: 0.5047 - val_accuracy: 0.7461\n",
      "Epoch 137/150\n",
      "438/438 [==============================] - 6s 13ms/step - loss: 0.5113 - accuracy: 0.7556 - val_loss: 0.3766 - val_accuracy: 0.8176\n",
      "Epoch 138/150\n",
      "438/438 [==============================] - 9s 21ms/step - loss: 0.5118 - accuracy: 0.7559 - val_loss: 0.4555 - val_accuracy: 0.7692\n",
      "Epoch 139/150\n",
      "438/438 [==============================] - 4s 10ms/step - loss: 0.5104 - accuracy: 0.7559 - val_loss: 0.5285 - val_accuracy: 0.7204\n",
      "Epoch 140/150\n",
      "438/438 [==============================] - 4s 9ms/step - loss: 0.5096 - accuracy: 0.7566 - val_loss: 0.8665 - val_accuracy: 0.5220\n",
      "Epoch 141/150\n",
      "438/438 [==============================] - 4s 9ms/step - loss: 0.5100 - accuracy: 0.7568 - val_loss: 0.3842 - val_accuracy: 0.8174\n",
      "Epoch 142/150\n",
      "438/438 [==============================] - 4s 9ms/step - loss: 0.5109 - accuracy: 0.7568 - val_loss: 0.5491 - val_accuracy: 0.7162\n",
      "Epoch 143/150\n",
      "438/438 [==============================] - 4s 9ms/step - loss: 0.5144 - accuracy: 0.7556 - val_loss: 0.4547 - val_accuracy: 0.7664\n",
      "Epoch 144/150\n",
      "438/438 [==============================] - 8s 19ms/step - loss: 0.5116 - accuracy: 0.7566 - val_loss: 0.6124 - val_accuracy: 0.6785\n",
      "Epoch 145/150\n",
      "438/438 [==============================] - 5s 12ms/step - loss: 0.5151 - accuracy: 0.7553 - val_loss: 0.5202 - val_accuracy: 0.7354\n",
      "Epoch 146/150\n",
      "438/438 [==============================] - 6s 13ms/step - loss: 0.5092 - accuracy: 0.7579 - val_loss: 0.3807 - val_accuracy: 0.8099\n",
      "Epoch 147/150\n",
      "438/438 [==============================] - 6s 13ms/step - loss: 0.5094 - accuracy: 0.7576 - val_loss: 0.4467 - val_accuracy: 0.7850\n",
      "Epoch 148/150\n",
      "438/438 [==============================] - 6s 13ms/step - loss: 0.5098 - accuracy: 0.7576 - val_loss: 0.5759 - val_accuracy: 0.7042\n",
      "Epoch 149/150\n",
      "438/438 [==============================] - 4s 9ms/step - loss: 0.5090 - accuracy: 0.7580 - val_loss: 0.6746 - val_accuracy: 0.6061\n",
      "Epoch 150/150\n",
      "438/438 [==============================] - 4s 9ms/step - loss: 0.5079 - accuracy: 0.7590 - val_loss: 0.4182 - val_accuracy: 0.7934\n"
     ]
    }
   ],
   "source": [
    "history = model.fit(X_train_res,\n",
    "                   y_train_res,\n",
    "                   epochs=150,\n",
    "                   batch_size=512,\n",
    "                   validation_data=(X_test,y_test))"
   ]
  },
  {
   "cell_type": "markdown",
   "metadata": {},
   "source": [
    "#### Finding the Accuracy score on the Test Data"
   ]
  },
  {
   "cell_type": "code",
   "execution_count": 77,
   "metadata": {},
   "outputs": [
    {
     "name": "stdout",
     "output_type": "stream",
     "text": [
      "938/938 [==============================] - 1s 1ms/step - loss: 0.4182 - accuracy: 0.7934\n"
     ]
    }
   ],
   "source": [
    "score = model.evaluate(X_test, y_test)"
   ]
  },
  {
   "cell_type": "code",
   "execution_count": 78,
   "metadata": {},
   "outputs": [
    {
     "name": "stdout",
     "output_type": "stream",
     "text": [
      "The AUC of the Test model is  0.8099560727593699\n",
      "The Gini of the Test model is  0.6199121455187397\n"
     ]
    }
   ],
   "source": [
    "#GINI & AUC \n",
    "pred  = model.predict(X_test)\n",
    "fpr, tpr, thresholds = roc_curve(y_test, pred)\n",
    "roc_auc = auc(fpr, tpr)\n",
    "print(\"The AUC of the Test model is \", roc_auc)\n",
    "Gini   = 2*roc_auc - 1\n",
    "print(\"The Gini of the Test model is \", Gini)"
   ]
  },
  {
   "cell_type": "markdown",
   "metadata": {},
   "source": [
    "### ROC curve comparison on the Test Data"
   ]
  },
  {
   "cell_type": "code",
   "execution_count": 90,
   "metadata": {},
   "outputs": [],
   "source": [
    "log_pred                   = regressor.predict(X_test)\n",
    "rfc_pred                       = rfc.predict(X_test)\n",
    "gbm_pred                       = gbc.predict(X_test)\n",
    "xgb_pred                       = xgb1.predict(X_test)\n",
    "deepl_pred                     = model.predict(X_test)"
   ]
  },
  {
   "cell_type": "code",
   "execution_count": 91,
   "metadata": {},
   "outputs": [],
   "source": [
    "log_fpr, log_tpr, log_threshold   = roc_auc_score(y_test, log_pred)\n",
    "rfc_fpr, rfc_tpr, rfc_threshold   = roc_auc_score(y_test, rfc_pred)\n",
    "gbm_fpr, gbm_tpr, gbm_threshold   = roc_auc_score(y_test, gbm_pred)\n",
    "xgb_fpr, xgb_tpr, xgb_threshold   = roc_auc_score(y_test, xgb_pred)\n",
    "deepl_fpr, deepl_tpr, deepl_threshold   = roc_auc_score(y_test, deepl_pred)"
   ]
  },
  {
   "cell_type": "code",
   "execution_count": 94,
   "metadata": {},
   "outputs": [
    {
     "data": {
      "image/png": "[encoded data removed]",
      "text/plain": [
       "<Figure size 720x432 with 1 Axes>"
      ]
     },
     "metadata": {
      "needs_background": "light"
     },
     "output_type": "display_data"
    }
   ],
   "source": [
    "# Plot ROC curves\n",
    "fig  = plt.figure(figsize=(10,6))\n",
    "plt.title('ROC Curve \\n Comparison of Classifiers')\n",
    "plt.plot(log_fpr, log_tpr, label ='Logistic Regression AUC: {:.2f}'.format(roc_auc_score(y_test, log_pred)))\n",
    "plt.plot(rfc_fpr, rfc_tpr, label ='Random Forest AUC: {:.f}'.format(roc_auc_score(y_test, rfc_pred)))\n",
    "plt.plot(gbm_fpr, gbm_tpr, label ='GBM AUC: {:.2f}'.format(roc_auc_score(y_test, gbm_pred)))\n",
    "plt.plot(xgb_fpr, xgb_tpr, label ='XgBoost AUC: {:.2f}'.format(roc_auc_score(y_test, xgb_pred)))\n",
    "plt.plot(deepl_fpr, deepl_tpr, label ='Deep Learning AUC: {:.2f}'.format(roc_auc_score(y_test, deepl_pred)))\n",
    "\n",
    "plt.plot([0, 1], ls=\"--\")\n",
    "plt.plot([0, 0], [1, 0] , c=\".7\"), plt.plot([1, 1] , c=\".7\")\n",
    "plt.ylabel('True Positive Rate')\n",
    "plt.xlabel('False Positive Rate')\n",
    "plt.legend()\n",
    "plt.show()"
   ]
  },
  {
   "cell_type": "markdown",
   "metadata": {},
   "source": [
    "**Result** : As we clearly see that the Deep Learning model works best on the Test data. It has a AUC score of around 81% which is a good classifer score for a first-second cut version. We can definitely improve a lot on this by tuning our keras model "
   ]
  },
  {
   "cell_type": "markdown",
   "metadata": {},
   "source": [
    "### Creating a Score from Probability\n",
    "\n",
    "Next we have is how do we consume these probabilities. Since, predicting a default is under a Credit Risk team of a Bank, we need to provide these probabilities into a more consumable format which will be like a Score; something similar to a FICO Score or a CIBIL Score or a Experian Score. These are all the Buereau Score on which basis one can predict the likeliness of a person not paying back the loan.\n",
    "\n",
    "We will also convert this probability into our internal Bank Score which will be used to give away loan once a customer applies for the same. This is called as an Application Score basis the information provided by the customer.\n",
    "\n",
    "Some of the terms which will be used are:\n",
    "* **Base Score**: This is the score on which we will start for each customer and then add/subtract points (absolute value) basis his probability to default (predicted). \n",
    "\n",
    "* **pdo**(Points to Double the odds): These are the points by which odds will be doubled. Odds here are (Good/Bads) ratio. For example, suppose at a score of 620, the odds ratio is 300/100 (3) and now if pdo is 100 then at a score of 720, the odds ratio will be 6.\n",
    "\n",
    "* **Goods/Bads**: This is the initial Goods/Bads ratio to be taken\n"
   ]
  },
  {
   "cell_type": "markdown",
   "metadata": {},
   "source": [
    "### Predict the probability for the full dataset with the Deep Learning Model\n",
    "\n",
    "We will use the Deep Learning model to predict the probability for all the customer. We have also tested our model on the KPIs like GINI and AUC."
   ]
  },
  {
   "cell_type": "code",
   "execution_count": 99,
   "metadata": {},
   "outputs": [],
   "source": [
    "## Predict for the whole of the dataset\n",
    "actual_   = df['SeriousDlqin2yrs']\n",
    "df_new    = df.copy()\n",
    "df_new    = df.drop(['SeriousDlqin2yrs'], axis=1)"
   ]
  },
  {
   "cell_type": "code",
   "execution_count": 100,
   "metadata": {},
   "outputs": [],
   "source": [
    "pred_all  = model.predict(df_new)"
   ]
  },
  {
   "cell_type": "code",
   "execution_count": 105,
   "metadata": {},
   "outputs": [
    {
     "name": "stdout",
     "output_type": "stream",
     "text": [
      "The AUC of the overall model is: 0.81\n",
      "The Gini of the overall model is: 0.63\n"
     ]
    }
   ],
   "source": [
    "fpr, tpr, thresholds = roc_curve(actual_, pred_all)\n",
    "roc_auc = auc(fpr, tpr)\n",
    "print(\"The AUC of the overall model is: {:.2f}\".format(roc_auc))\n",
    "Gini   = 2*roc_auc - 1\n",
    "print(\"The Gini of the overall model is: {:.2f}\".format(Gini))"
   ]
  },
  {
   "cell_type": "markdown",
   "metadata": {},
   "source": [
    "### Initializing the Score variable to predict the score"
   ]
  },
  {
   "cell_type": "code",
   "execution_count": 106,
   "metadata": {},
   "outputs": [],
   "source": [
    "## Convert the probability into a score\n",
    "Base_Score = 600\n",
    "pdo        = 120\n",
    "Good_Bads  = 10\n",
    "\n",
    "## Creating a function to calculate a Score\n",
    "def score_(x, Offset, Factor):\n",
    "    score_ = Offset - Factor * np.log(x)\n",
    "    return score_"
   ]
  },
  {
   "cell_type": "code",
   "execution_count": 119,
   "metadata": {},
   "outputs": [],
   "source": [
    "Factor          = pdo/np.log(2)\n",
    "Offset          = Base_Score - Factor * np.log(Good_Bads)\n",
    "Score_          = score_(pred_all, Offset=Offset, Factor=Factor)"
   ]
  },
  {
   "cell_type": "code",
   "execution_count": 120,
   "metadata": {},
   "outputs": [],
   "source": [
    "Actual_vals      = pd.DataFrame(actual_).reset_index(drop=True)\n",
    "Score            = pd.DataFrame(Score_)\n",
    "pred_all         = pd.DataFrame(pred_all)\n",
    "combine          = [Actual_vals,pred_all, Score]\n",
    "combine_         = pd.concat(combine, axis=1)"
   ]
  },
  {
   "cell_type": "code",
   "execution_count": 121,
   "metadata": {},
   "outputs": [],
   "source": [
    "combine_.columns  = ['Default', 'Predicted_prob', 'Risk_Score']"
   ]
  },
  {
   "cell_type": "code",
   "execution_count": 122,
   "metadata": {},
   "outputs": [],
   "source": [
    "combine_              = combine_.replace([np.inf, -np.inf], np.nan)\n",
    "combine_              = combine_[combine_.isna()==False]"
   ]
  },
  {
   "cell_type": "markdown",
   "metadata": {},
   "source": [
    "#### We will cap the Score to 900 as some of the customers have a Probability of almost equal to zero which is there is almost no chance they will miss any loan payments"
   ]
  },
  {
   "cell_type": "code",
   "execution_count": 123,
   "metadata": {},
   "outputs": [],
   "source": [
    "combine_.loc[(combine_.Risk_Score>900), ['Risk_Score']] = 899"
   ]
  },
  {
   "cell_type": "code",
   "execution_count": 125,
   "metadata": {},
   "outputs": [
    {
     "data": {
      "text/plain": [
       "Text(0.5, 1.0, 'Score Distribution')"
      ]
     },
     "execution_count": 125,
     "metadata": {},
     "output_type": "execute_result"
    },
    {
     "data": {
      "image/png": "[encoded data removed]",
      "text/plain": [
       "<Figure size 360x360 with 1 Axes>"
      ]
     },
     "metadata": {
      "needs_background": "light"
     },
     "output_type": "display_data"
    }
   ],
   "source": [
    "fig = plt.figure(figsize = (5,5))\n",
    "ax = sns.distplot(combine_['Risk_Score'], hist=True, kde=True,\n",
    "                        bins=100, color = 'blue',hist_kws={'edgecolor':'black'},\n",
    "                         kde_kws={'linewidth': 4})\n",
    "\n",
    "ax.set_xlabel(\"Application Score\")\n",
    "ax.set_ylabel(\"Count\")\n",
    "ax.set_title(\"Score Distribution\")"
   ]
  },
  {
   "cell_type": "markdown",
   "metadata": {},
   "source": [
    "### Create Deciles and check default rate by score bands\n",
    "\n",
    "This is an idea exercise which every Credit Risk Manager does to understand if the scores created by him is rank ordering as per the actual defaults. We would create 10 groups in the Score we have created and then check the overall defauls and default rates in that particular Score Band"
   ]
  },
  {
   "cell_type": "code",
   "execution_count": 114,
   "metadata": {},
   "outputs": [],
   "source": [
    "max_                         = max(combine_['Risk_Score'])\n",
    "min_                         = min(combine_['Risk_Score'])\n",
    "combine_['Score_decile']     = pd.cut(combine_['Risk_Score'], bins=[min_,300,415,490,555,600,690,730,max_],labels = [min_,300,415,490,555,600,690,730], include_lowest= True)"
   ]
  },
  {
   "cell_type": "code",
   "execution_count": 115,
   "metadata": {},
   "outputs": [],
   "source": [
    "no_of_defaults                = combine_.groupby('Score_decile', as_index=False).agg({'Default':'sum', 'Predicted_prob':'count'})"
   ]
  },
  {
   "cell_type": "code",
   "execution_count": 116,
   "metadata": {},
   "outputs": [],
   "source": [
    "no_of_defaults['default_rate'] = (no_of_defaults['Default']/no_of_defaults['Predicted_prob'] * 100)\n",
    "no_of_defaults['Score_decile'] = round(no_of_defaults['Score_decile'],0)"
   ]
  },
  {
   "cell_type": "code",
   "execution_count": 117,
   "metadata": {},
   "outputs": [
    {
     "data": {
      "text/html": [
       "<div>\n",
       "<style scoped>\n",
       "    .dataframe tbody tr th:only-of-type {\n",
       "        vertical-align: middle;\n",
       "    }\n",
       "\n",
       "    .dataframe tbody tr th {\n",
       "        vertical-align: top;\n",
       "    }\n",
       "\n",
       "    .dataframe thead th {\n",
       "        text-align: right;\n",
       "    }\n",
       "</style>\n",
       "<table border=\"1\" class=\"dataframe\">\n",
       "  <thead>\n",
       "    <tr style=\"text-align: right;\">\n",
       "      <th></th>\n",
       "      <th>Score_decile</th>\n",
       "      <th>Default</th>\n",
       "      <th>Predicted_prob</th>\n",
       "      <th>default_rate</th>\n",
       "    </tr>\n",
       "  </thead>\n",
       "  <tbody>\n",
       "    <tr>\n",
       "      <th>0</th>\n",
       "      <td>201.0</td>\n",
       "      <td>6039</td>\n",
       "      <td>27792</td>\n",
       "      <td>21.729275</td>\n",
       "    </tr>\n",
       "    <tr>\n",
       "      <th>1</th>\n",
       "      <td>300.0</td>\n",
       "      <td>2317</td>\n",
       "      <td>30193</td>\n",
       "      <td>7.673964</td>\n",
       "    </tr>\n",
       "    <tr>\n",
       "      <th>2</th>\n",
       "      <td>415.0</td>\n",
       "      <td>698</td>\n",
       "      <td>21017</td>\n",
       "      <td>3.321121</td>\n",
       "    </tr>\n",
       "    <tr>\n",
       "      <th>3</th>\n",
       "      <td>490.0</td>\n",
       "      <td>369</td>\n",
       "      <td>17761</td>\n",
       "      <td>2.077586</td>\n",
       "    </tr>\n",
       "    <tr>\n",
       "      <th>4</th>\n",
       "      <td>555.0</td>\n",
       "      <td>180</td>\n",
       "      <td>10311</td>\n",
       "      <td>1.745708</td>\n",
       "    </tr>\n",
       "    <tr>\n",
       "      <th>5</th>\n",
       "      <td>600.0</td>\n",
       "      <td>204</td>\n",
       "      <td>15445</td>\n",
       "      <td>1.320816</td>\n",
       "    </tr>\n",
       "    <tr>\n",
       "      <th>6</th>\n",
       "      <td>690.0</td>\n",
       "      <td>48</td>\n",
       "      <td>5385</td>\n",
       "      <td>0.891365</td>\n",
       "    </tr>\n",
       "    <tr>\n",
       "      <th>7</th>\n",
       "      <td>730.0</td>\n",
       "      <td>171</td>\n",
       "      <td>22096</td>\n",
       "      <td>0.773896</td>\n",
       "    </tr>\n",
       "  </tbody>\n",
       "</table>\n",
       "</div>"
      ],
      "text/plain": [
       "   Score_decile  Default  Predicted_prob  default_rate\n",
       "0         201.0     6039           27792     21.729275\n",
       "1         300.0     2317           30193      7.673964\n",
       "2         415.0      698           21017      3.321121\n",
       "3         490.0      369           17761      2.077586\n",
       "4         555.0      180           10311      1.745708\n",
       "5         600.0      204           15445      1.320816\n",
       "6         690.0       48            5385      0.891365\n",
       "7         730.0      171           22096      0.773896"
      ]
     },
     "execution_count": 117,
     "metadata": {},
     "output_type": "execute_result"
    }
   ],
   "source": [
    "no_of_defaults"
   ]
  },
  {
   "cell_type": "code",
   "execution_count": 118,
   "metadata": {},
   "outputs": [
    {
     "data": {
      "text/plain": [
       "Text(0, 0.5, 'Default Rate')"
      ]
     },
     "execution_count": 118,
     "metadata": {},
     "output_type": "execute_result"
    },
    {
     "data": {
      "image/png": "[encoded data removed]",
      "text/plain": [
       "<Figure size 576x432 with 1 Axes>"
      ]
     },
     "metadata": {
      "needs_background": "light"
     },
     "output_type": "display_data"
    }
   ],
   "source": [
    "fig = plt.figure(figsize = (8,6))\n",
    "plt.plot(no_of_defaults['Score_decile'], no_of_defaults['default_rate'], color = 'c')\n",
    "plt.title(\"Default Rates across Score Range\", fontsize = 15)\n",
    "plt.xlabel(\"Score\", fontsize = 12)\n",
    "plt.ylabel(\"Default Rate\", fontsize=12)"
   ]
  },
  {
   "cell_type": "markdown",
   "metadata": {},
   "source": [
    "**Result**: As can be seen above, there is no rank ordering break; which is basically the Default rate for low score buckets is not lower than the Default rate for high score bucket"
   ]
  },
  {
   "cell_type": "code",
   "execution_count": 129,
   "metadata": {},
   "outputs": [],
   "source": [
    "Final_data     = pd.concat([df,combine_], axis=1)"
   ]
  },
  {
   "cell_type": "code",
   "execution_count": 130,
   "metadata": {},
   "outputs": [
    {
     "data": {
      "text/html": [
       "<div>\n",
       "<style scoped>\n",
       "    .dataframe tbody tr th:only-of-type {\n",
       "        vertical-align: middle;\n",
       "    }\n",
       "\n",
       "    .dataframe tbody tr th {\n",
       "        vertical-align: top;\n",
       "    }\n",
       "\n",
       "    .dataframe thead th {\n",
       "        text-align: right;\n",
       "    }\n",
       "</style>\n",
       "<table border=\"1\" class=\"dataframe\">\n",
       "  <thead>\n",
       "    <tr style=\"text-align: right;\">\n",
       "      <th></th>\n",
       "      <th>RevolvingUtilizationOfUnsecuredLines</th>\n",
       "      <th>age</th>\n",
       "      <th>NumberOfTime30-59DaysPastDueNotWorse</th>\n",
       "      <th>DebtRatio</th>\n",
       "      <th>MonthlyIncome</th>\n",
       "      <th>NumberOfOpenCreditLinesAndLoans</th>\n",
       "      <th>NumberRealEstateLoansOrLines</th>\n",
       "      <th>NumberOfDependents</th>\n",
       "      <th>SeriousDlqin2yrs</th>\n",
       "      <th>Default</th>\n",
       "      <th>Predicted_prob</th>\n",
       "      <th>Risk_Score</th>\n",
       "    </tr>\n",
       "  </thead>\n",
       "  <tbody>\n",
       "    <tr>\n",
       "      <th>0</th>\n",
       "      <td>0.766127</td>\n",
       "      <td>45</td>\n",
       "      <td>2</td>\n",
       "      <td>0.802982</td>\n",
       "      <td>9120.0</td>\n",
       "      <td>13</td>\n",
       "      <td>6</td>\n",
       "      <td>2.0</td>\n",
       "      <td>1</td>\n",
       "      <td>1</td>\n",
       "      <td>0.624293</td>\n",
       "      <td>282.933289</td>\n",
       "    </tr>\n",
       "    <tr>\n",
       "      <th>1</th>\n",
       "      <td>0.957151</td>\n",
       "      <td>40</td>\n",
       "      <td>0</td>\n",
       "      <td>0.121876</td>\n",
       "      <td>2600.0</td>\n",
       "      <td>4</td>\n",
       "      <td>0</td>\n",
       "      <td>1.0</td>\n",
       "      <td>0</td>\n",
       "      <td>0</td>\n",
       "      <td>0.826314</td>\n",
       "      <td>234.397156</td>\n",
       "    </tr>\n",
       "    <tr>\n",
       "      <th>2</th>\n",
       "      <td>0.658180</td>\n",
       "      <td>38</td>\n",
       "      <td>1</td>\n",
       "      <td>0.085113</td>\n",
       "      <td>3042.0</td>\n",
       "      <td>2</td>\n",
       "      <td>0</td>\n",
       "      <td>0.0</td>\n",
       "      <td>0</td>\n",
       "      <td>0</td>\n",
       "      <td>0.703143</td>\n",
       "      <td>262.341797</td>\n",
       "    </tr>\n",
       "    <tr>\n",
       "      <th>3</th>\n",
       "      <td>0.233810</td>\n",
       "      <td>30</td>\n",
       "      <td>0</td>\n",
       "      <td>0.036050</td>\n",
       "      <td>3300.0</td>\n",
       "      <td>5</td>\n",
       "      <td>0</td>\n",
       "      <td>0.0</td>\n",
       "      <td>0</td>\n",
       "      <td>0</td>\n",
       "      <td>0.286822</td>\n",
       "      <td>417.581299</td>\n",
       "    </tr>\n",
       "    <tr>\n",
       "      <th>4</th>\n",
       "      <td>0.907239</td>\n",
       "      <td>49</td>\n",
       "      <td>1</td>\n",
       "      <td>0.024926</td>\n",
       "      <td>63588.0</td>\n",
       "      <td>7</td>\n",
       "      <td>1</td>\n",
       "      <td>0.0</td>\n",
       "      <td>0</td>\n",
       "      <td>0</td>\n",
       "      <td>0.130770</td>\n",
       "      <td>553.555908</td>\n",
       "    </tr>\n",
       "  </tbody>\n",
       "</table>\n",
       "</div>"
      ],
      "text/plain": [
       "   RevolvingUtilizationOfUnsecuredLines  age  \\\n",
       "0                              0.766127   45   \n",
       "1                              0.957151   40   \n",
       "2                              0.658180   38   \n",
       "3                              0.233810   30   \n",
       "4                              0.907239   49   \n",
       "\n",
       "   NumberOfTime30-59DaysPastDueNotWorse  DebtRatio  MonthlyIncome  \\\n",
       "0                                     2   0.802982         9120.0   \n",
       "1                                     0   0.121876         2600.0   \n",
       "2                                     1   0.085113         3042.0   \n",
       "3                                     0   0.036050         3300.0   \n",
       "4                                     1   0.024926        63588.0   \n",
       "\n",
       "   NumberOfOpenCreditLinesAndLoans  NumberRealEstateLoansOrLines  \\\n",
       "0                               13                             6   \n",
       "1                                4                             0   \n",
       "2                                2                             0   \n",
       "3                                5                             0   \n",
       "4                                7                             1   \n",
       "\n",
       "   NumberOfDependents  SeriousDlqin2yrs  Default  Predicted_prob  Risk_Score  \n",
       "0                 2.0                 1        1        0.624293  282.933289  \n",
       "1                 1.0                 0        0        0.826314  234.397156  \n",
       "2                 0.0                 0        0        0.703143  262.341797  \n",
       "3                 0.0                 0        0        0.286822  417.581299  \n",
       "4                 0.0                 0        0        0.130770  553.555908  "
      ]
     },
     "execution_count": 130,
     "metadata": {},
     "output_type": "execute_result"
    }
   ],
   "source": [
    "Final_data.head()"
   ]
  }
 ],
 "metadata": {
  "kernelspec": {
   "display_name": "Python 3",
   "language": "python",
   "name": "python3"
  },
  "language_info": {
   "codemirror_mode": {
    "name": "ipython",
    "version": 3
   },
   "file_extension": ".py",
   "mimetype": "text/x-python",
   "name": "python",
   "nbconvert_exporter": "python",
   "pygments_lexer": "ipython3",
   "version": "3.7.6"
  }
 },
 "nbformat": 4,
 "nbformat_minor": 4
}
